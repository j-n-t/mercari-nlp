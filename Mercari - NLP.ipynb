{
 "cells": [
  {
   "cell_type": "markdown",
   "metadata": {},
   "source": [
    "<img src=\"https://storage.googleapis.com/kaggle-organizations/1076/thumbnail.jpg%3Fr=260\" alt=\"Mercari Kaggle Competition\" height=\"250\" width=\"250\">\n",
    "\n",
    "# Mercari Price Suggestion Challenge\n",
    "***\n",
    "\n",
    "## Challenge description\n",
    "\n",
    "**Problem:** It can be hard to know how much something’s really worth. Small details can mean big differences in pricing. Product pricing gets even harder at scale, considering just how many products are sold online. Clothing has strong seasonal pricing trends and is heavily influenced by brand names, while electronics have fluctuating prices based on product specs.\n",
    "\n",
    "Mercari, Japan’s biggest community-powered shopping app, knows this problem deeply. They’d like to offer pricing suggestions to sellers, but this is tough because their sellers are enabled to put just about anything, or any bundle of things, on Mercari's marketplace.\n",
    "\n",
    "**How to solve it:** In this competition, Mercari’s challenging you to build an algorithm that automatically suggests the right product prices. You’ll be provided user-inputted text descriptions of their products, including details like product category name, brand name, and item condition."
   ]
  },
  {
   "cell_type": "markdown",
   "metadata": {},
   "source": [
    "## Evaluation\n",
    "\n",
    "The evaluation metric for this competition is **Root Mean Squared Logarithmic Error (RMSLE)**.\n",
    "\n",
    "The RMSLE is calculated as:\n",
    "\n",
    "$$ϵ=\\sqrt{\\frac{1}{n} \\sum\\limits_{i=1}^{n}{(log(p_{i}+1)-log(a_{i}+1))^2}}$$\n",
    "\n",
    "Where:\n",
    "\n",
    "* $ϵ$ is the RMSLE value,\n",
    "* $n$ is the total number of observations in the data set,\n",
    "* $p_{i}$ is your prediction of price, and\n",
    "* $a_{i}$ is the actual sale price for i;\n",
    "* $log(x)$ is the natural logarithm of x."
   ]
  },
  {
   "cell_type": "markdown",
   "metadata": {},
   "source": [
    "## Data\n",
    "\n",
    "### File: train.tsv\n",
    "\n",
    "This file consists of a list of product listings. This file is tab-delimited and includes the following variables:\n",
    "\n",
    "* `train_id` - the id of the listing\n",
    "* `name` - the title of the listing. Note that the data was cleaned in order to remove text that look like prices (e.g. \\$20) to avoid leakage. These removed prices are represented as [rm]\n",
    "* `item_condition_id` - the condition of the items provided by the seller\n",
    "* `category_name` - category of the listing\n",
    "* `brand_name` - the product's brand\n",
    "* `price` - the price that the item was sold for. This is the target variable that we will predict. The unit is USD\n",
    "* `shipping` - 1 if shipping fee is paid by seller and 0 by buyer\n",
    "* `item_description` - the full description of the item. Note that the data was cleaned in order to remove text that look like prices (e.g. \\$20) to avoid leakage. These removed prices are represented as [rm]\n",
    "\n",
    "<br>For more information about this challenge, please visit https://www.kaggle.com/c/mercari-price-suggestion-challenge/overview."
   ]
  },
  {
   "cell_type": "markdown",
   "metadata": {},
   "source": [
    "<img src=\"https://erinsinsidejob.com/wp-content/uploads/2016/01/mercari.gif\">"
   ]
  },
  {
   "cell_type": "markdown",
   "metadata": {},
   "source": [
    "# Table of Contents\n",
    "***\n",
    "\n",
    "## 1. Define\n",
    "\n",
    "<ul>\n",
    "<li><a href=\"#define\">Define the problem</a></li>\n",
    "</ul>\n",
    "\n",
    "## 2. Discover\n",
    "\n",
    "<ul>\n",
    "<li><a href=\"#obtain\">Obtain data</a></li>\n",
    "<li><a href=\"#clean\">Clean data</a></li>\n",
    "<li><a href=\"#explore\">Explore data</a></li>\n",
    "<li><a href=\"#establish\">Establish baseline outcomes</a></li>\n",
    "<li><a href=\"#hypothesize\">Hypothesize solutions</a></li>\n",
    "</ul>\n",
    "\n",
    "## 3. Develop\n",
    "\n",
    "<ul>\n",
    "<li><a href=\"#engineer\">Engineer features</a></li>\n",
    "<li><a href=\"#modeling\">Create models</a></li>\n",
    "<li><a href=\"#modeling\">Test models</a></li>\n",
    "<li><a href=\"#select\">Select best model</a></li>\n",
    "</ul>\n",
    "\n",
    "## 4. Deploy\n",
    "\n",
    "<ul>\n",
    "<li><a href=\"#automate\">Automate pipeline</a></li>\n",
    "<li><a href=\"#deploy\">Deploy solution</a></li>\n",
    "</ul>"
   ]
  },
  {
   "cell_type": "markdown",
   "metadata": {},
   "source": [
    "***\n",
    "<a id='define'></a>\n",
    "## Define the problem\n",
    "\n",
    "* What is the problem?\n",
    "\n",
    ">Almost everything can be sold online, but it can be extremely difficult to determine a reasonable price for any given product.\n",
    "\n",
    "* How do we solve it?\n",
    "\n",
    ">Our goal is to build an algorithm that automatically suggests the right product prices for both the sellers and the buyers. This is a regression problem and we will be using RMSLE as the evaluation metric.\n",
    "\n",
    "* Why does it matter?\n",
    "\n",
    ">Solving this problem means that everyone's happy! The **seller will be able to sell products more effectively** since he will know beforehand what is the suggested price for the product he's trying to sell. The **buyer will know that he's paying a reasonable price** for what he's getting. And **Mercari will have more satisfied customers**. And more satisfied customers means more profit."
   ]
  },
  {
   "cell_type": "markdown",
   "metadata": {},
   "source": [
    "***\n",
    "<a id='obtain'></a>\n",
    "## Obtain data"
   ]
  },
  {
   "cell_type": "code",
   "execution_count": 1,
   "metadata": {},
   "outputs": [],
   "source": [
    "# imports\n",
    "import numpy as np\n",
    "import pandas as pd\n",
    "import matplotlib.pyplot as plt\n",
    "import seaborn as sns\n",
    "from scipy import stats"
   ]
  },
  {
   "cell_type": "code",
   "execution_count": 2,
   "metadata": {},
   "outputs": [
    {
     "data": {
      "text/html": [
       "<div>\n",
       "<style scoped>\n",
       "    .dataframe tbody tr th:only-of-type {\n",
       "        vertical-align: middle;\n",
       "    }\n",
       "\n",
       "    .dataframe tbody tr th {\n",
       "        vertical-align: top;\n",
       "    }\n",
       "\n",
       "    .dataframe thead th {\n",
       "        text-align: right;\n",
       "    }\n",
       "</style>\n",
       "<table border=\"1\" class=\"dataframe\">\n",
       "  <thead>\n",
       "    <tr style=\"text-align: right;\">\n",
       "      <th></th>\n",
       "      <th>train_id</th>\n",
       "      <th>name</th>\n",
       "      <th>item_condition_id</th>\n",
       "      <th>category_name</th>\n",
       "      <th>brand_name</th>\n",
       "      <th>price</th>\n",
       "      <th>shipping</th>\n",
       "      <th>item_description</th>\n",
       "    </tr>\n",
       "  </thead>\n",
       "  <tbody>\n",
       "    <tr>\n",
       "      <th>0</th>\n",
       "      <td>0</td>\n",
       "      <td>MLB Cincinnati Reds T Shirt Size XL</td>\n",
       "      <td>3</td>\n",
       "      <td>Men/Tops/T-shirts</td>\n",
       "      <td>NaN</td>\n",
       "      <td>10.0</td>\n",
       "      <td>1</td>\n",
       "      <td>No description yet</td>\n",
       "    </tr>\n",
       "    <tr>\n",
       "      <th>1</th>\n",
       "      <td>1</td>\n",
       "      <td>Razer BlackWidow Chroma Keyboard</td>\n",
       "      <td>3</td>\n",
       "      <td>Electronics/Computers &amp; Tablets/Components &amp; P...</td>\n",
       "      <td>Razer</td>\n",
       "      <td>52.0</td>\n",
       "      <td>0</td>\n",
       "      <td>This keyboard is in great condition and works ...</td>\n",
       "    </tr>\n",
       "    <tr>\n",
       "      <th>2</th>\n",
       "      <td>2</td>\n",
       "      <td>AVA-VIV Blouse</td>\n",
       "      <td>1</td>\n",
       "      <td>Women/Tops &amp; Blouses/Blouse</td>\n",
       "      <td>Target</td>\n",
       "      <td>10.0</td>\n",
       "      <td>1</td>\n",
       "      <td>Adorable top with a hint of lace and a key hol...</td>\n",
       "    </tr>\n",
       "    <tr>\n",
       "      <th>3</th>\n",
       "      <td>3</td>\n",
       "      <td>Leather Horse Statues</td>\n",
       "      <td>1</td>\n",
       "      <td>Home/Home Décor/Home Décor Accents</td>\n",
       "      <td>NaN</td>\n",
       "      <td>35.0</td>\n",
       "      <td>1</td>\n",
       "      <td>New with tags. Leather horses. Retail for [rm]...</td>\n",
       "    </tr>\n",
       "    <tr>\n",
       "      <th>4</th>\n",
       "      <td>4</td>\n",
       "      <td>24K GOLD plated rose</td>\n",
       "      <td>1</td>\n",
       "      <td>Women/Jewelry/Necklaces</td>\n",
       "      <td>NaN</td>\n",
       "      <td>44.0</td>\n",
       "      <td>0</td>\n",
       "      <td>Complete with certificate of authenticity</td>\n",
       "    </tr>\n",
       "  </tbody>\n",
       "</table>\n",
       "</div>"
      ],
      "text/plain": [
       "   train_id                                 name  item_condition_id  \\\n",
       "0         0  MLB Cincinnati Reds T Shirt Size XL                  3   \n",
       "1         1     Razer BlackWidow Chroma Keyboard                  3   \n",
       "2         2                       AVA-VIV Blouse                  1   \n",
       "3         3                Leather Horse Statues                  1   \n",
       "4         4                 24K GOLD plated rose                  1   \n",
       "\n",
       "                                       category_name brand_name  price  \\\n",
       "0                                  Men/Tops/T-shirts        NaN   10.0   \n",
       "1  Electronics/Computers & Tablets/Components & P...      Razer   52.0   \n",
       "2                        Women/Tops & Blouses/Blouse     Target   10.0   \n",
       "3                 Home/Home Décor/Home Décor Accents        NaN   35.0   \n",
       "4                            Women/Jewelry/Necklaces        NaN   44.0   \n",
       "\n",
       "   shipping                                   item_description  \n",
       "0         1                                 No description yet  \n",
       "1         0  This keyboard is in great condition and works ...  \n",
       "2         1  Adorable top with a hint of lace and a key hol...  \n",
       "3         1  New with tags. Leather horses. Retail for [rm]...  \n",
       "4         0          Complete with certificate of authenticity  "
      ]
     },
     "execution_count": 2,
     "metadata": {},
     "output_type": "execute_result"
    }
   ],
   "source": [
    "# import data and check first few lines\n",
    "df_train = pd.read_csv('./train.tsv', sep = '\\t')\n",
    "df_train.head()"
   ]
  },
  {
   "cell_type": "code",
   "execution_count": 3,
   "metadata": {},
   "outputs": [
    {
     "data": {
      "text/plain": [
       "(1482535, 8)"
      ]
     },
     "execution_count": 3,
     "metadata": {},
     "output_type": "execute_result"
    }
   ],
   "source": [
    "# number of rows and columns of our dataframe\n",
    "df_train.shape"
   ]
  },
  {
   "cell_type": "code",
   "execution_count": 4,
   "metadata": {},
   "outputs": [
    {
     "name": "stdout",
     "output_type": "stream",
     "text": [
      "<class 'pandas.core.frame.DataFrame'>\n",
      "RangeIndex: 1482535 entries, 0 to 1482534\n",
      "Data columns (total 8 columns):\n",
      "train_id             1482535 non-null int64\n",
      "name                 1482535 non-null object\n",
      "item_condition_id    1482535 non-null int64\n",
      "category_name        1476208 non-null object\n",
      "brand_name           849853 non-null object\n",
      "price                1482535 non-null float64\n",
      "shipping             1482535 non-null int64\n",
      "item_description     1482531 non-null object\n",
      "dtypes: float64(1), int64(3), object(4)\n",
      "memory usage: 90.5+ MB\n"
     ]
    }
   ],
   "source": [
    "# check some details about our dataframe with the .info() method\n",
    "df_train.info()"
   ]
  },
  {
   "cell_type": "code",
   "execution_count": 5,
   "metadata": {},
   "outputs": [
    {
     "data": {
      "text/html": [
       "<div>\n",
       "<style scoped>\n",
       "    .dataframe tbody tr th:only-of-type {\n",
       "        vertical-align: middle;\n",
       "    }\n",
       "\n",
       "    .dataframe tbody tr th {\n",
       "        vertical-align: top;\n",
       "    }\n",
       "\n",
       "    .dataframe thead th {\n",
       "        text-align: right;\n",
       "    }\n",
       "</style>\n",
       "<table border=\"1\" class=\"dataframe\">\n",
       "  <thead>\n",
       "    <tr style=\"text-align: right;\">\n",
       "      <th></th>\n",
       "      <th>count</th>\n",
       "      <th>mean</th>\n",
       "      <th>std</th>\n",
       "      <th>min</th>\n",
       "      <th>25%</th>\n",
       "      <th>50%</th>\n",
       "      <th>75%</th>\n",
       "      <th>max</th>\n",
       "    </tr>\n",
       "  </thead>\n",
       "  <tbody>\n",
       "    <tr>\n",
       "      <th>train_id</th>\n",
       "      <td>1482535.0</td>\n",
       "      <td>741267.000000</td>\n",
       "      <td>427971.135004</td>\n",
       "      <td>0.0</td>\n",
       "      <td>370633.5</td>\n",
       "      <td>741267.0</td>\n",
       "      <td>1111900.5</td>\n",
       "      <td>1482534.0</td>\n",
       "    </tr>\n",
       "    <tr>\n",
       "      <th>item_condition_id</th>\n",
       "      <td>1482535.0</td>\n",
       "      <td>1.907380</td>\n",
       "      <td>0.903159</td>\n",
       "      <td>1.0</td>\n",
       "      <td>1.0</td>\n",
       "      <td>2.0</td>\n",
       "      <td>3.0</td>\n",
       "      <td>5.0</td>\n",
       "    </tr>\n",
       "    <tr>\n",
       "      <th>price</th>\n",
       "      <td>1482535.0</td>\n",
       "      <td>26.737516</td>\n",
       "      <td>38.586066</td>\n",
       "      <td>0.0</td>\n",
       "      <td>10.0</td>\n",
       "      <td>17.0</td>\n",
       "      <td>29.0</td>\n",
       "      <td>2009.0</td>\n",
       "    </tr>\n",
       "    <tr>\n",
       "      <th>shipping</th>\n",
       "      <td>1482535.0</td>\n",
       "      <td>0.447274</td>\n",
       "      <td>0.497212</td>\n",
       "      <td>0.0</td>\n",
       "      <td>0.0</td>\n",
       "      <td>0.0</td>\n",
       "      <td>1.0</td>\n",
       "      <td>1.0</td>\n",
       "    </tr>\n",
       "  </tbody>\n",
       "</table>\n",
       "</div>"
      ],
      "text/plain": [
       "                       count           mean            std  min       25%  \\\n",
       "train_id           1482535.0  741267.000000  427971.135004  0.0  370633.5   \n",
       "item_condition_id  1482535.0       1.907380       0.903159  1.0       1.0   \n",
       "price              1482535.0      26.737516      38.586066  0.0      10.0   \n",
       "shipping           1482535.0       0.447274       0.497212  0.0       0.0   \n",
       "\n",
       "                        50%        75%        max  \n",
       "train_id           741267.0  1111900.5  1482534.0  \n",
       "item_condition_id       2.0        3.0        5.0  \n",
       "price                  17.0       29.0     2009.0  \n",
       "shipping                0.0        1.0        1.0  "
      ]
     },
     "execution_count": 5,
     "metadata": {},
     "output_type": "execute_result"
    }
   ],
   "source": [
    "# check numerical features\n",
    "df_train.describe().transpose()"
   ]
  },
  {
   "cell_type": "code",
   "execution_count": 6,
   "metadata": {},
   "outputs": [
    {
     "data": {
      "text/html": [
       "<div>\n",
       "<style scoped>\n",
       "    .dataframe tbody tr th:only-of-type {\n",
       "        vertical-align: middle;\n",
       "    }\n",
       "\n",
       "    .dataframe tbody tr th {\n",
       "        vertical-align: top;\n",
       "    }\n",
       "\n",
       "    .dataframe thead th {\n",
       "        text-align: right;\n",
       "    }\n",
       "</style>\n",
       "<table border=\"1\" class=\"dataframe\">\n",
       "  <thead>\n",
       "    <tr style=\"text-align: right;\">\n",
       "      <th></th>\n",
       "      <th>count</th>\n",
       "      <th>unique</th>\n",
       "      <th>top</th>\n",
       "      <th>freq</th>\n",
       "    </tr>\n",
       "  </thead>\n",
       "  <tbody>\n",
       "    <tr>\n",
       "      <th>name</th>\n",
       "      <td>1482535</td>\n",
       "      <td>1225273</td>\n",
       "      <td>Bundle</td>\n",
       "      <td>2232</td>\n",
       "    </tr>\n",
       "    <tr>\n",
       "      <th>category_name</th>\n",
       "      <td>1476208</td>\n",
       "      <td>1287</td>\n",
       "      <td>Women/Athletic Apparel/Pants, Tights, Leggings</td>\n",
       "      <td>60177</td>\n",
       "    </tr>\n",
       "    <tr>\n",
       "      <th>brand_name</th>\n",
       "      <td>849853</td>\n",
       "      <td>4809</td>\n",
       "      <td>PINK</td>\n",
       "      <td>54088</td>\n",
       "    </tr>\n",
       "    <tr>\n",
       "      <th>item_description</th>\n",
       "      <td>1482531</td>\n",
       "      <td>1281426</td>\n",
       "      <td>No description yet</td>\n",
       "      <td>82489</td>\n",
       "    </tr>\n",
       "  </tbody>\n",
       "</table>\n",
       "</div>"
      ],
      "text/plain": [
       "                    count   unique  \\\n",
       "name              1482535  1225273   \n",
       "category_name     1476208     1287   \n",
       "brand_name         849853     4809   \n",
       "item_description  1482531  1281426   \n",
       "\n",
       "                                                             top   freq  \n",
       "name                                                      Bundle   2232  \n",
       "category_name     Women/Athletic Apparel/Pants, Tights, Leggings  60177  \n",
       "brand_name                                                  PINK  54088  \n",
       "item_description                              No description yet  82489  "
      ]
     },
     "execution_count": 6,
     "metadata": {},
     "output_type": "execute_result"
    }
   ],
   "source": [
    "# check categorical features\n",
    "df_train.describe(include='object').transpose()"
   ]
  },
  {
   "cell_type": "markdown",
   "metadata": {},
   "source": [
    "> * The training set has almost 1.5 million rows and 8 columns (variables)\n",
    "* From the 8 variables, 4 are numerical (train_id, item_condition_id, price,  and shipping) and 4 are categorical (name, category_name, brand_name, and item_description)\n",
    "* The average price is almost \\$27 but 3/4 of the products cost \\$29 or less\n",
    "* There are 4809 unique brands\n",
    "* The most frequent product is women pants, tights or leggins\n",
    "* More than 82000 products have no description ('No description yet')"
   ]
  },
  {
   "cell_type": "markdown",
   "metadata": {},
   "source": [
    "<a id='clean'></a>\n",
    "## Clean data"
   ]
  },
  {
   "cell_type": "markdown",
   "metadata": {},
   "source": [
    "**Note:** To speed things up, and since our dataset is quite big, we will sample 10% of it and use this sample for the rest of our analysis. All the logical reasoning behind our analysis remains valid for our dataset as a whole, even though the numbers might change."
   ]
  },
  {
   "cell_type": "code",
   "execution_count": 7,
   "metadata": {},
   "outputs": [
    {
     "data": {
      "text/plain": [
       "(148254, 8)"
      ]
     },
     "execution_count": 7,
     "metadata": {},
     "output_type": "execute_result"
    }
   ],
   "source": [
    "df_train_sample = df_train.sample(frac=0.1, random_state=42).reset_index(drop=True)\n",
    "df_train_sample.shape"
   ]
  },
  {
   "cell_type": "markdown",
   "metadata": {},
   "source": [
    "Our \"new\" dataset has 148254 rows and 8 columns."
   ]
  },
  {
   "cell_type": "code",
   "execution_count": 8,
   "metadata": {},
   "outputs": [
    {
     "data": {
      "text/plain": [
       "brand_name           63108\n",
       "category_name          609\n",
       "item_description         1\n",
       "shipping                 0\n",
       "price                    0\n",
       "item_condition_id        0\n",
       "name                     0\n",
       "train_id                 0\n",
       "dtype: int64"
      ]
     },
     "execution_count": 8,
     "metadata": {},
     "output_type": "execute_result"
    }
   ],
   "source": [
    "# check missing values\n",
    "df_train_sample.isnull().sum().sort_values(ascending=False)"
   ]
  },
  {
   "cell_type": "code",
   "execution_count": 9,
   "metadata": {},
   "outputs": [
    {
     "data": {
      "text/html": [
       "<div>\n",
       "<style scoped>\n",
       "    .dataframe tbody tr th:only-of-type {\n",
       "        vertical-align: middle;\n",
       "    }\n",
       "\n",
       "    .dataframe tbody tr th {\n",
       "        vertical-align: top;\n",
       "    }\n",
       "\n",
       "    .dataframe thead th {\n",
       "        text-align: right;\n",
       "    }\n",
       "</style>\n",
       "<table border=\"1\" class=\"dataframe\">\n",
       "  <thead>\n",
       "    <tr style=\"text-align: right;\">\n",
       "      <th></th>\n",
       "      <th>n</th>\n",
       "      <th>%</th>\n",
       "    </tr>\n",
       "  </thead>\n",
       "  <tbody>\n",
       "    <tr>\n",
       "      <th>brand_name</th>\n",
       "      <td>63108</td>\n",
       "      <td>0.425675</td>\n",
       "    </tr>\n",
       "    <tr>\n",
       "      <th>category_name</th>\n",
       "      <td>609</td>\n",
       "      <td>0.004108</td>\n",
       "    </tr>\n",
       "    <tr>\n",
       "      <th>item_description</th>\n",
       "      <td>1</td>\n",
       "      <td>0.000007</td>\n",
       "    </tr>\n",
       "    <tr>\n",
       "      <th>shipping</th>\n",
       "      <td>0</td>\n",
       "      <td>0.000000</td>\n",
       "    </tr>\n",
       "    <tr>\n",
       "      <th>price</th>\n",
       "      <td>0</td>\n",
       "      <td>0.000000</td>\n",
       "    </tr>\n",
       "    <tr>\n",
       "      <th>item_condition_id</th>\n",
       "      <td>0</td>\n",
       "      <td>0.000000</td>\n",
       "    </tr>\n",
       "    <tr>\n",
       "      <th>name</th>\n",
       "      <td>0</td>\n",
       "      <td>0.000000</td>\n",
       "    </tr>\n",
       "    <tr>\n",
       "      <th>train_id</th>\n",
       "      <td>0</td>\n",
       "      <td>0.000000</td>\n",
       "    </tr>\n",
       "  </tbody>\n",
       "</table>\n",
       "</div>"
      ],
      "text/plain": [
       "                       n         %\n",
       "brand_name         63108  0.425675\n",
       "category_name        609  0.004108\n",
       "item_description       1  0.000007\n",
       "shipping               0  0.000000\n",
       "price                  0  0.000000\n",
       "item_condition_id      0  0.000000\n",
       "name                   0  0.000000\n",
       "train_id               0  0.000000"
      ]
     },
     "execution_count": 9,
     "metadata": {},
     "output_type": "execute_result"
    }
   ],
   "source": [
    "n_missing = df_train_sample.isnull().sum().sort_values(ascending=False)\n",
    "percent_missing = (df_train_sample.isnull().sum()/len(df_train_sample)).sort_values(ascending=False)\n",
    "\n",
    "missing_values = pd.concat([n_missing, percent_missing], axis=1, keys=['n', '%'])\n",
    "missing_values"
   ]
  },
  {
   "cell_type": "markdown",
   "metadata": {},
   "source": [
    "Three of our features have missing values. \n",
    "\n",
    "In the case of `brand_name`, no brand was specified for a high percentage of products (more than 40%). It is possible that the sellers did not know the brand of the product they were trying to sell. We can consider this value to be **'unknow'**.\n",
    "\n",
    "As for `category_name`, only a small percentage of produts have a missing value for this particular variable. Let's impute it as **'Other'**.\n",
    "\n",
    "Regarding `item_description`, there's only one missing value. We can impute this value with **'No description yet'**."
   ]
  },
  {
   "cell_type": "code",
   "execution_count": 10,
   "metadata": {},
   "outputs": [],
   "source": [
    "# Create a function to impute missing values\n",
    "def impute_missing_value(df):\n",
    "    df['category_name'].fillna(value = 'Other', inplace=True)\n",
    "    df['brand_name'].fillna(value = 'unknown', inplace=True)\n",
    "    df['item_description'].fillna(value = 'No description yet', inplace=True)\n",
    "\n",
    "    return df"
   ]
  },
  {
   "cell_type": "code",
   "execution_count": 11,
   "metadata": {},
   "outputs": [
    {
     "data": {
      "text/plain": [
       "train_id             0\n",
       "name                 0\n",
       "item_condition_id    0\n",
       "category_name        0\n",
       "brand_name           0\n",
       "price                0\n",
       "shipping             0\n",
       "item_description     0\n",
       "dtype: int64"
      ]
     },
     "execution_count": 11,
     "metadata": {},
     "output_type": "execute_result"
    }
   ],
   "source": [
    "# check if there are still missing values\n",
    "impute_missing_value(df_train_sample)\n",
    "df_train_sample.isnull().sum()"
   ]
  },
  {
   "cell_type": "markdown",
   "metadata": {},
   "source": [
    "Our data does not have any missing values. We can proceed to the next step."
   ]
  },
  {
   "cell_type": "markdown",
   "metadata": {},
   "source": [
    "<a id='explore'></a>\n",
    "## Explore data - EDA"
   ]
  },
  {
   "cell_type": "markdown",
   "metadata": {},
   "source": [
    "### Univariate Analysis "
   ]
  },
  {
   "cell_type": "code",
   "execution_count": 12,
   "metadata": {},
   "outputs": [
    {
     "data": {
      "text/plain": [
       "Index(['train_id', 'name', 'item_condition_id', 'category_name', 'brand_name',\n",
       "       'price', 'shipping', 'item_description'],\n",
       "      dtype='object')"
      ]
     },
     "execution_count": 12,
     "metadata": {},
     "output_type": "execute_result"
    }
   ],
   "source": [
    "# columns labels\n",
    "df_train_sample.columns"
   ]
  },
  {
   "cell_type": "markdown",
   "metadata": {},
   "source": [
    "Let's examine our dependent variable, `price`, i. e., what we are trying to predict."
   ]
  },
  {
   "cell_type": "code",
   "execution_count": 13,
   "metadata": {},
   "outputs": [
    {
     "data": {
      "text/plain": [
       "count    148254.000000\n",
       "mean         26.940912\n",
       "std          38.921517\n",
       "min           0.000000\n",
       "25%          10.000000\n",
       "50%          17.000000\n",
       "75%          30.000000\n",
       "max        2004.000000\n",
       "Name: price, dtype: float64"
      ]
     },
     "execution_count": 13,
     "metadata": {},
     "output_type": "execute_result"
    }
   ],
   "source": [
    "df_train_sample['price'].describe()"
   ]
  },
  {
   "cell_type": "markdown",
   "metadata": {},
   "source": [
    "At first glance, two things caught my attention:\n",
    "* this variable distribution seems to be **highly skewed to the right**\n",
    "* the **minimum value for price is zero**, which is odd considering that users are selling products and not giving them away\n",
    "\n",
    "Let's confirm the first point graphically."
   ]
  },
  {
   "cell_type": "code",
   "execution_count": 14,
   "metadata": {},
   "outputs": [
    {
     "name": "stderr",
     "output_type": "stream",
     "text": [
      "C:\\Users\\joaon\\Anaconda3\\lib\\site-packages\\scipy\\stats\\stats.py:1713: FutureWarning: Using a non-tuple sequence for multidimensional indexing is deprecated; use `arr[tuple(seq)]` instead of `arr[seq]`. In the future this will be interpreted as an array index, `arr[np.array(seq)]`, which will result either in an error or a different result.\n",
      "  return np.add.reduce(sorted[indexer] * weights, axis=axis) / sumval\n"
     ]
    },
    {
     "data": {
      "image/png": "[encoded data removed]",
      "text/plain": [
       "<Figure size 432x288 with 1 Axes>"
      ]
     },
     "metadata": {},
     "output_type": "display_data"
    }
   ],
   "source": [
    "# histogram of dependent variable price\n",
    "sns.set()\n",
    "sns.distplot(df_train_sample['price'], bins = 50)\n",
    "plt.title('Price Distribution', fontsize=12);"
   ]
  },
  {
   "cell_type": "markdown",
   "metadata": {},
   "source": [
    "As the great majority of values for price is lower than \\$250, let's limit the possible values for x."
   ]
  },
  {
   "cell_type": "code",
   "execution_count": 15,
   "metadata": {},
   "outputs": [
    {
     "data": {
      "image/png": "[encoded data removed]",
      "text/plain": [
       "<Figure size 432x288 with 1 Axes>"
      ]
     },
     "metadata": {},
     "output_type": "display_data"
    }
   ],
   "source": [
    "plt.xlim(0, 250)\n",
    "sns.distplot(df_train_sample['price'], kde=False, bins = 500)\n",
    "plt.title('Price Distribution', fontsize=12);"
   ]
  },
  {
   "cell_type": "code",
   "execution_count": 16,
   "metadata": {},
   "outputs": [
    {
     "data": {
      "text/plain": [
       "10.802715269945242"
      ]
     },
     "execution_count": 16,
     "metadata": {},
     "output_type": "execute_result"
    }
   ],
   "source": [
    "#skewness\n",
    "stats.skew(df_train_sample['price'])"
   ]
  },
  {
   "cell_type": "markdown",
   "metadata": {},
   "source": [
    "As we suspected, the **distribution for price has a long right tail** and is highly skewed. To address this problem, we can apply a **log transformation** to this variable."
   ]
  },
  {
   "cell_type": "code",
   "execution_count": 17,
   "metadata": {},
   "outputs": [
    {
     "name": "stderr",
     "output_type": "stream",
     "text": [
      "C:\\Users\\joaon\\Anaconda3\\lib\\site-packages\\scipy\\stats\\stats.py:1713: FutureWarning: Using a non-tuple sequence for multidimensional indexing is deprecated; use `arr[tuple(seq)]` instead of `arr[seq]`. In the future this will be interpreted as an array index, `arr[np.array(seq)]`, which will result either in an error or a different result.\n",
      "  return np.add.reduce(sorted[indexer] * weights, axis=axis) / sumval\n"
     ]
    },
    {
     "data": {
      "image/png": "[encoded data removed]",
      "text/plain": [
       "<Figure size 432x288 with 1 Axes>"
      ]
     },
     "metadata": {},
     "output_type": "display_data"
    }
   ],
   "source": [
    "sns.distplot(np.log(df_train_sample['price']+1), fit = stats.norm)\n",
    "plt.xlabel('log(price+1)', fontsize=12)\n",
    "plt.title('Log Price Distribution', fontsize=12);"
   ]
  },
  {
   "cell_type": "code",
   "execution_count": 18,
   "metadata": {},
   "outputs": [
    {
     "data": {
      "text/plain": [
       "0.6685968520865843"
      ]
     },
     "execution_count": 18,
     "metadata": {},
     "output_type": "execute_result"
    }
   ],
   "source": [
    "stats.skew(np.log(df_train_sample['price']+1))"
   ]
  },
  {
   "cell_type": "markdown",
   "metadata": {},
   "source": [
    "This distribution is now **closer to a normal distribution**, and the **skewness value is closer to zero**.\n",
    "\n",
    "As for the minimum value of price, let's investigate this further."
   ]
  },
  {
   "cell_type": "code",
   "execution_count": 19,
   "metadata": {},
   "outputs": [
    {
     "data": {
      "text/html": [
       "<div>\n",
       "<style scoped>\n",
       "    .dataframe tbody tr th:only-of-type {\n",
       "        vertical-align: middle;\n",
       "    }\n",
       "\n",
       "    .dataframe tbody tr th {\n",
       "        vertical-align: top;\n",
       "    }\n",
       "\n",
       "    .dataframe thead th {\n",
       "        text-align: right;\n",
       "    }\n",
       "</style>\n",
       "<table border=\"1\" class=\"dataframe\">\n",
       "  <thead>\n",
       "    <tr style=\"text-align: right;\">\n",
       "      <th></th>\n",
       "      <th>train_id</th>\n",
       "      <th>name</th>\n",
       "      <th>item_condition_id</th>\n",
       "      <th>category_name</th>\n",
       "      <th>brand_name</th>\n",
       "      <th>price</th>\n",
       "      <th>shipping</th>\n",
       "      <th>item_description</th>\n",
       "    </tr>\n",
       "  </thead>\n",
       "  <tbody>\n",
       "    <tr>\n",
       "      <th>93</th>\n",
       "      <td>84726</td>\n",
       "      <td>Sparkly Deer Bow Mint Tshirt Southern M</td>\n",
       "      <td>3</td>\n",
       "      <td>Women/Tops &amp; Blouses/T-Shirts</td>\n",
       "      <td>unknown</td>\n",
       "      <td>0.0</td>\n",
       "      <td>1</td>\n",
       "      <td>Very gently used. Sparkly in back. It's a girl...</td>\n",
       "    </tr>\n",
       "    <tr>\n",
       "      <th>1289</th>\n",
       "      <td>1100976</td>\n",
       "      <td>Benefit Boing Airbrush Concealer</td>\n",
       "      <td>2</td>\n",
       "      <td>Beauty/Makeup/Eyes</td>\n",
       "      <td>Benefit</td>\n",
       "      <td>0.0</td>\n",
       "      <td>1</td>\n",
       "      <td>New (very slight swatch on left) Auth Full Siz...</td>\n",
       "    </tr>\n",
       "    <tr>\n",
       "      <th>1653</th>\n",
       "      <td>535205</td>\n",
       "      <td>Bundled For brittDashipeesinger</td>\n",
       "      <td>3</td>\n",
       "      <td>Kids/Boys (4+)/Coats &amp; Jackets</td>\n",
       "      <td>Nike</td>\n",
       "      <td>0.0</td>\n",
       "      <td>0</td>\n",
       "      <td>Black hoodie Gray and orange hoodie Pink Ultim...</td>\n",
       "    </tr>\n",
       "    <tr>\n",
       "      <th>2076</th>\n",
       "      <td>156671</td>\n",
       "      <td>Juicy Couture Boots</td>\n",
       "      <td>4</td>\n",
       "      <td>Women/Shoes/Boots</td>\n",
       "      <td>Juicy Couture</td>\n",
       "      <td>0.0</td>\n",
       "      <td>0</td>\n",
       "      <td>1 pompom missing on lace Not sure what the act...</td>\n",
       "    </tr>\n",
       "    <tr>\n",
       "      <th>2756</th>\n",
       "      <td>428948</td>\n",
       "      <td>New 10pcs Brushes set</td>\n",
       "      <td>1</td>\n",
       "      <td>Beauty/Tools &amp; Accessories/Makeup Brushes &amp; Tools</td>\n",
       "      <td>unknown</td>\n",
       "      <td>0.0</td>\n",
       "      <td>0</td>\n",
       "      <td>Brush Length : about 15.5cm Handle the Diamete...</td>\n",
       "    </tr>\n",
       "  </tbody>\n",
       "</table>\n",
       "</div>"
      ],
      "text/plain": [
       "      train_id                                     name  item_condition_id  \\\n",
       "93       84726  Sparkly Deer Bow Mint Tshirt Southern M                  3   \n",
       "1289   1100976         Benefit Boing Airbrush Concealer                  2   \n",
       "1653    535205          Bundled For brittDashipeesinger                  3   \n",
       "2076    156671                      Juicy Couture Boots                  4   \n",
       "2756    428948                    New 10pcs Brushes set                  1   \n",
       "\n",
       "                                          category_name     brand_name  price  \\\n",
       "93                        Women/Tops & Blouses/T-Shirts        unknown    0.0   \n",
       "1289                                 Beauty/Makeup/Eyes        Benefit    0.0   \n",
       "1653                     Kids/Boys (4+)/Coats & Jackets           Nike    0.0   \n",
       "2076                                  Women/Shoes/Boots  Juicy Couture    0.0   \n",
       "2756  Beauty/Tools & Accessories/Makeup Brushes & Tools        unknown    0.0   \n",
       "\n",
       "      shipping                                   item_description  \n",
       "93           1  Very gently used. Sparkly in back. It's a girl...  \n",
       "1289         1  New (very slight swatch on left) Auth Full Siz...  \n",
       "1653         0  Black hoodie Gray and orange hoodie Pink Ultim...  \n",
       "2076         0  1 pompom missing on lace Not sure what the act...  \n",
       "2756         0  Brush Length : about 15.5cm Handle the Diamete...  "
      ]
     },
     "execution_count": 19,
     "metadata": {},
     "output_type": "execute_result"
    }
   ],
   "source": [
    "df_train_sample[df_train_sample['price'] == 0].head()"
   ]
  },
  {
   "cell_type": "code",
   "execution_count": 20,
   "metadata": {},
   "outputs": [
    {
     "data": {
      "text/plain": [
       "87"
      ]
     },
     "execution_count": 20,
     "metadata": {},
     "output_type": "execute_result"
    }
   ],
   "source": [
    "len(df_train_sample[df_train_sample['price'] == 0])"
   ]
  },
  {
   "cell_type": "markdown",
   "metadata": {},
   "source": [
    "87 products have their price set to zero. As there seems to be no reason for this, we'll remove these items from our dataset."
   ]
  },
  {
   "cell_type": "code",
   "execution_count": 21,
   "metadata": {},
   "outputs": [],
   "source": [
    "# removing items with price = 0\n",
    "df_train_sample.drop(df_train_sample[df_train_sample['price'] == 0].index, inplace=True)"
   ]
  },
  {
   "cell_type": "code",
   "execution_count": 22,
   "metadata": {},
   "outputs": [
    {
     "data": {
      "text/plain": [
       "0"
      ]
     },
     "execution_count": 22,
     "metadata": {},
     "output_type": "execute_result"
    }
   ],
   "source": [
    "len(df_train_sample[df_train_sample['price'] == 0])"
   ]
  },
  {
   "cell_type": "code",
   "execution_count": 23,
   "metadata": {},
   "outputs": [
    {
     "data": {
      "text/plain": [
       "(148167, 8)"
      ]
     },
     "execution_count": 23,
     "metadata": {},
     "output_type": "execute_result"
    }
   ],
   "source": [
    "df_train_sample.shape"
   ]
  },
  {
   "cell_type": "markdown",
   "metadata": {},
   "source": [
    "We have removed items with price = 0 and now our dataset has 148167 rows.\n",
    "\n",
    "It is now time to **examine our independent variables**."
   ]
  },
  {
   "cell_type": "markdown",
   "metadata": {},
   "source": [
    "#### For `item_condition` and `shipping`:"
   ]
  },
  {
   "cell_type": "code",
   "execution_count": 24,
   "metadata": {},
   "outputs": [
    {
     "data": {
      "image/png": "[encoded data removed]",
      "text/plain": [
       "<Figure size 864x288 with 2 Axes>"
      ]
     },
     "metadata": {},
     "output_type": "display_data"
    }
   ],
   "source": [
    "# countplot of independent variables item_condition_id and shipping\n",
    "plt.figure(figsize=(12, 4))\n",
    "\n",
    "plt.subplot(1, 2, 1)\n",
    "sns.countplot(df_train_sample['item_condition_id'])\n",
    "plt.title('Item Condition', fontsize=12)\n",
    "\n",
    "plt.subplot(1, 2, 2)\n",
    "sns.countplot(df_train_sample['shipping'])\n",
    "plt.title('Shipping', fontsize=12);"
   ]
  },
  {
   "cell_type": "code",
   "execution_count": 25,
   "metadata": {},
   "outputs": [
    {
     "data": {
      "text/plain": [
       "310     This is the best purse as far as size and the way it fits on the arm. It's n...\n",
       "674     I had this PSP from my brother,he gave it to me as a birthday gift since 200...\n",
       "866     REDUCED AGAIN!! Brand new with FLAWS. Damaged when delivered. Right Lens cam...\n",
       "1765    8GB iPhone 5c in green. There is something wrong with the front light sensor...\n",
       "2007    3 pair... These Jeans have multiple flaws including most buttons gone on bac...\n",
       "2145         Grey knit ugg boots size 10 very used but still a little life left in them\n",
       "2298    cracked white iphone 5s silver. works fine. will come with brand new duracel...\n",
       "2318                                                  Clean imei. Can be used for parts\n",
       "3770    The touch is badly broken/cracked- iPod classic has been off for a while- ch...\n",
       "4313                 Nike Little Posite One PS size 13c size 13 c flaws in the pictures\n",
       "Name: item_description, dtype: object"
      ]
     },
     "execution_count": 25,
     "metadata": {},
     "output_type": "execute_result"
    }
   ],
   "source": [
    "pd.set_option('max_colwidth', 80)\n",
    "df_train_sample[df_train_sample['item_condition_id'] == 5]['item_description'].head(10)"
   ]
  },
  {
   "cell_type": "code",
   "execution_count": 26,
   "metadata": {},
   "outputs": [
    {
     "data": {
      "text/plain": [
       "0     This listing is for all 4 Totoro washi tape for a limited time offer you als...\n",
       "1                           7 items. 1: XL. 2: 2XL. 3:2XL. 4: XL. 5: 2XL. 6: OS 7: 38\n",
       "2                                                        - sunglasses and necklace :)\n",
       "3                I ordered a bunch of stickers so you will recieve many cute ones! :)\n",
       "8                                                                           10/10 New\n",
       "9     High quality Immediate purchase Ok? Free shipping 1.Detail: Necklace Type:Pe...\n",
       "10              Starbucks drink cards l. Ask for bundle and will try to work with you\n",
       "11                                                Color in Vintage. New and unopened.\n",
       "12    Brand new in packaging Soft and slow rising Smells like strawberry May have ...\n",
       "13    New Travel Size No box Fresh Soy Face Cleanser 20 ml New Travel Size Fresh F...\n",
       "Name: item_description, dtype: object"
      ]
     },
     "execution_count": 26,
     "metadata": {},
     "output_type": "execute_result"
    }
   ],
   "source": [
    "df_train_sample[df_train_sample['item_condition_id'] == 1]['item_description'].head(10)"
   ]
  },
  {
   "cell_type": "code",
   "execution_count": 27,
   "metadata": {},
   "outputs": [
    {
     "data": {
      "text/plain": [
       "1    0.431142\n",
       "2    0.254929\n",
       "3    0.290294\n",
       "4    0.022070\n",
       "5    0.001566\n",
       "Name: item_condition_id, dtype: float64"
      ]
     },
     "execution_count": 27,
     "metadata": {},
     "output_type": "execute_result"
    }
   ],
   "source": [
    "df_train_sample['item_condition_id'].value_counts(sort=False) / len(df_train_sample)"
   ]
  },
  {
   "cell_type": "markdown",
   "metadata": {},
   "source": [
    "Considering the item descriptions and the information available at https://www.mercari.com/help_center/article/316/:\n",
    "* **more than 40%** of the articles are considered to be **new**\n",
    "* around **25%** are **like new**\n",
    "* a little less than **30%** are **good**\n",
    "* only around **2,5%** of the articles are considered to be **fair** or **poor**."
   ]
  },
  {
   "cell_type": "code",
   "execution_count": 28,
   "metadata": {},
   "outputs": [
    {
     "data": {
      "text/plain": [
       "0    0.553349\n",
       "1    0.446651\n",
       "Name: shipping, dtype: float64"
      ]
     },
     "execution_count": 28,
     "metadata": {},
     "output_type": "execute_result"
    }
   ],
   "source": [
    "df_train_sample['shipping'].value_counts() / len(df_train_sample)"
   ]
  },
  {
   "cell_type": "markdown",
   "metadata": {},
   "source": [
    "As for the shipping, in around **55%** of the cases the **shipping is paid by the buyer**. **45%** of the times the **seller pays for the shipping**."
   ]
  },
  {
   "cell_type": "markdown",
   "metadata": {},
   "source": [
    "#### For `brand_name` and `category_name`:"
   ]
  },
  {
   "cell_type": "code",
   "execution_count": 30,
   "metadata": {},
   "outputs": [
    {
     "data": {
      "image/png": "[encoded data removed]",
      "text/plain": [
       "<Figure size 576x864 with 2 Axes>"
      ]
     },
     "metadata": {},
     "output_type": "display_data"
    }
   ],
   "source": [
    "# barplot of Top10 brands and categories\n",
    "plt.figure(figsize=(8, 12))\n",
    "plt.subplots_adjust(hspace = 0.4)\n",
    "\n",
    "plt.subplot(2, 1, 1)\n",
    "sns.barplot(y=df_train_sample['brand_name'].value_counts()[1:11].index, \n",
    "            x=df_train_sample['brand_name'].value_counts()[1:11])\n",
    "plt.xlabel('count', fontsize=12)\n",
    "plt.title('Top 10 brands', fontsize=12)\n",
    "\n",
    "plt.subplot(2, 1, 2)\n",
    "sns.barplot(y=df_train_sample['category_name'].value_counts()[:10].index, \n",
    "            x=df_train_sample['category_name'].value_counts()[:10])\n",
    "plt.xlabel('count', fontsize=12)\n",
    "# reduce y-labels to the first 20 characters\n",
    "ylabels_20 = [df_train_sample['category_name'].value_counts()[:10].index[i][0:20] for i in range(10)]\n",
    "plt.yticks([0, 1, 2, 3, 4, 5, 6, 7, 8, 9], labels=ylabels_20)\n",
    "plt.title('Top 10 categories', fontsize=12);"
   ]
  },
  {
   "cell_type": "code",
   "execution_count": 31,
   "metadata": {},
   "outputs": [
    {
     "data": {
      "text/plain": [
       "PINK                 5375\n",
       "Nike                 5237\n",
       "Victoria's Secret    4822\n",
       "LuLaRoe              3042\n",
       "Apple                1789\n",
       "Nintendo             1558\n",
       "FOREVER 21           1554\n",
       "Lululemon            1496\n",
       "Michael Kors         1419\n",
       "American Eagle       1293\n",
       "Name: brand_name, dtype: int64"
      ]
     },
     "execution_count": 31,
     "metadata": {},
     "output_type": "execute_result"
    }
   ],
   "source": [
    "# Top10 brands (counting from 1 because 0 corresponds to 'unknown')\n",
    "df_train_sample['brand_name'].value_counts()[1:11]"
   ]
  },
  {
   "cell_type": "markdown",
   "metadata": {},
   "source": [
    "The **top 3 brands** are all from the **clothing and footwear industry** and clearly dominate over the other brands. In number 4 but at a certain distance, we have another brand from the clothing industry. Ranking **5th and 6th**, we have two brands from the **consumer electronics** sector, and other brands follow closely."
   ]
  },
  {
   "cell_type": "code",
   "execution_count": 32,
   "metadata": {},
   "outputs": [
    {
     "data": {
      "text/plain": [
       "Women/Athletic Apparel/Pants, Tights, Leggings                 5949\n",
       "Women/Tops & Blouses/T-Shirts                                  4653\n",
       "Beauty/Makeup/Face                                             3450\n",
       "Beauty/Makeup/Lips                                             2961\n",
       "Electronics/Video Games & Consoles/Games                       2803\n",
       "Beauty/Makeup/Eyes                                             2503\n",
       "Electronics/Cell Phones & Accessories/Cases, Covers & Skins    2417\n",
       "Women/Underwear/Bras                                           2125\n",
       "Women/Tops & Blouses/Blouse                                    2078\n",
       "Women/Athletic Apparel/Shorts                                  2037\n",
       "Name: category_name, dtype: int64"
      ]
     },
     "execution_count": 32,
     "metadata": {},
     "output_type": "execute_result"
    }
   ],
   "source": [
    "df_train_sample['category_name'].value_counts()[:10]"
   ]
  },
  {
   "cell_type": "markdown",
   "metadata": {},
   "source": [
    "Regarding the categories, **women clothes and makeup** clearly dominate the top 10. The exceptions are products from the sub-category **Video Games & Consoles** (5th) and **Cell Phones and Accessories** (7th), both from the consumer electronics industry."
   ]
  },
  {
   "cell_type": "markdown",
   "metadata": {},
   "source": [
    "### Bivariate Analysis"
   ]
  },
  {
   "cell_type": "markdown",
   "metadata": {},
   "source": [
    "#### Relationship between `price` and `item_condition_id`"
   ]
  },
  {
   "cell_type": "code",
   "execution_count": 33,
   "metadata": {},
   "outputs": [
    {
     "data": {
      "image/png": "[encoded data removed]",
      "text/plain": [
       "<Figure size 864x576 with 1 Axes>"
      ]
     },
     "metadata": {},
     "output_type": "display_data"
    }
   ],
   "source": [
    "plt.figure(figsize=(12, 8))\n",
    "\n",
    "sns.boxplot(x='item_condition_id', y=\"price\", data=df_train_sample)\n",
    "plt.ylim(0, 200);"
   ]
  },
  {
   "cell_type": "markdown",
   "metadata": {},
   "source": [
    "As one would expect, the **median price decreases as item_condition_id increases** (1: new, 2: like new, 3: good, 4: fair). The **exception is 5: poor**. Let's examine this closely."
   ]
  },
  {
   "cell_type": "code",
   "execution_count": 34,
   "metadata": {},
   "outputs": [
    {
     "data": {
      "text/plain": [
       "count    232.000000\n",
       "mean      32.797414\n",
       "std       35.499374\n",
       "min        3.000000\n",
       "25%       12.000000\n",
       "50%       20.000000\n",
       "75%       36.500000\n",
       "max      181.000000\n",
       "Name: price, dtype: float64"
      ]
     },
     "execution_count": 34,
     "metadata": {},
     "output_type": "execute_result"
    }
   ],
   "source": [
    "df_train_sample[df_train_sample['item_condition_id'] == 5]['price'].describe()"
   ]
  },
  {
   "cell_type": "code",
   "execution_count": 35,
   "metadata": {},
   "outputs": [
    {
     "data": {
      "text/plain": [
       "Electronics/Cell Phones & Accessories/Cell Phones & Smartphones    64\n",
       "Electronics/Video Games & Consoles/Games                           17\n",
       "Electronics/Video Games & Consoles/Consoles                        15\n",
       "Men/Shoes/Athletic                                                 12\n",
       "Electronics/Computers & Tablets/Laptops & Netbooks                  7\n",
       "Name: category_name, dtype: int64"
      ]
     },
     "execution_count": 35,
     "metadata": {},
     "output_type": "execute_result"
    }
   ],
   "source": [
    "df_train_sample[df_train_sample['item_condition_id'] == 5]['category_name'].value_counts()[:5]"
   ]
  },
  {
   "cell_type": "markdown",
   "metadata": {},
   "source": [
    "Several reasons can explain this issue:\n",
    "* some sellers may have **wrongly defined the condition of the product**, assuming that 5 corresponds to new (as it is the higher value) instead of 1\n",
    "* as it is such a **small category** (only 232 products in total), there can be some **bias** associated with it\n",
    "* contrary to other categories, the **top 5 products** of this category are from the **consumer electronics industry (4) and men footwear (1)**, making this category diffcult to compare with the others"
   ]
  },
  {
   "cell_type": "markdown",
   "metadata": {},
   "source": [
    "### Multivariate Analysis"
   ]
  },
  {
   "cell_type": "markdown",
   "metadata": {},
   "source": [
    "#### `price`, `item_condition_id` and `category_name`"
   ]
  },
  {
   "cell_type": "code",
   "execution_count": 36,
   "metadata": {},
   "outputs": [
    {
     "name": "stderr",
     "output_type": "stream",
     "text": [
      "C:\\Users\\joaon\\Anaconda3\\lib\\site-packages\\scipy\\stats\\stats.py:1713: FutureWarning: Using a non-tuple sequence for multidimensional indexing is deprecated; use `arr[tuple(seq)]` instead of `arr[seq]`. In the future this will be interpreted as an array index, `arr[np.array(seq)]`, which will result either in an error or a different result.\n",
      "  return np.add.reduce(sorted[indexer] * weights, axis=axis) / sumval\n"
     ]
    },
    {
     "data": {
      "image/png": "[encoded data removed]",
      "text/plain": [
       "<Figure size 864x432 with 1 Axes>"
      ]
     },
     "metadata": {},
     "output_type": "display_data"
    }
   ],
   "source": [
    "plt.figure(figsize=(12, 6))\n",
    "sns.barplot(x='item_condition_id', y=\"price\", hue='category_name', data=df_train_sample[(df_train_sample['category_name'] == df_train_sample['category_name'].value_counts().index[0]) | (df_train_sample['category_name'] == df_train_sample['category_name'].value_counts().index[1]) | (df_train_sample['category_name'] == df_train_sample['category_name'].value_counts().index[2])])\n",
    "handles, labels = plt.gca().get_legend_handles_labels()\n",
    "handles = [handles[2], handles[0], handles[1]]\n",
    "labels = [labels[2], labels[0], labels[1]]\n",
    "plt.legend(handles, labels, title='Top 3 categories', loc='upper right');"
   ]
  },
  {
   "cell_type": "markdown",
   "metadata": {},
   "source": [
    "Plotting a bar plot for `item_condition_id` and `price` adding a third variable as a hue semantic - `category_name` - for the top 3 categories, we confirm the pattern we have previously identified: the **average price decreases as item_condition_id increases**. We can also see that the **average price is higher for the top category - *Women/Athletic Apparel/Pants, Tights, Leggings* **- no matter what the item condition is."
   ]
  },
  {
   "cell_type": "markdown",
   "metadata": {},
   "source": [
    "<a id='establish'></a>\n",
    "## Establish baseline outcomes"
   ]
  },
  {
   "cell_type": "markdown",
   "metadata": {},
   "source": [
    "Sellers can put just about anything for sale on Mercari's marketplace, but usually **it is hard to know the real worth of something**. What happens today is that **sellers have no assistance in defining the selling price**, and this can turn into a complicated problem to solve. Either they set the price to low and lose money or they set the price to high and cannot find a buyer for their products. We wish to improve this situation."
   ]
  },
  {
   "cell_type": "markdown",
   "metadata": {},
   "source": [
    "<a id='hypothesize'></a>\n",
    "## Hypothesize solutions"
   ]
  },
  {
   "cell_type": "markdown",
   "metadata": {},
   "source": [
    "Our goal is to find a way to **determine the right product prices** and make this information available both to the seller and the buyer before they sell/purchase any product.\n",
    "\n",
    "With that in mind, we aim to **build an algorithm that automatically suggests the right product prices**. We’ll try to leverage the features that are available, including details like product category name, brand name, and item condition, as well as user-inputted text descriptions of the products.\n",
    "\n",
    "We'll use some **natural language processing techniques** to extract useful information from those text descriptions and we will be using **RMSLE as the evaluation metric**."
   ]
  },
  {
   "cell_type": "markdown",
   "metadata": {},
   "source": [
    "***\n",
    "<a id='engineer'></a>\n",
    "## Engineer features"
   ]
  },
  {
   "cell_type": "markdown",
   "metadata": {},
   "source": [
    "The `category_name` feature follows the format **main_category/subcategory_1/subcategory2/...** . It would be interesting to store this information in a different way, where each (sub)category is stored as an independent feature."
   ]
  },
  {
   "cell_type": "code",
   "execution_count": 37,
   "metadata": {},
   "outputs": [],
   "source": [
    "# create column \"number_of_categories\"\n",
    "# with info about the number of categories of each product's category_name\n",
    "df_train_sample['number_of_categories'] = df_train_sample['category_name'].apply(lambda x: len(x.split('/')))"
   ]
  },
  {
   "cell_type": "code",
   "execution_count": 38,
   "metadata": {},
   "outputs": [
    {
     "data": {
      "text/plain": [
       "3    147088\n",
       "1       605\n",
       "5       330\n",
       "4       144\n",
       "Name: number_of_categories, dtype: int64"
      ]
     },
     "execution_count": 38,
     "metadata": {},
     "output_type": "execute_result"
    }
   ],
   "source": [
    "df_train_sample['number_of_categories'].value_counts()"
   ]
  },
  {
   "cell_type": "markdown",
   "metadata": {},
   "source": [
    "For most products, `category_name` has **3 levels**, with the format **main_category/subcategory_1/subcategory2**. One example of this is our top category, *Women/Athletic Apparel/Pants, Tights, Leggings*."
   ]
  },
  {
   "cell_type": "code",
   "execution_count": 39,
   "metadata": {},
   "outputs": [
    {
     "data": {
      "text/plain": [
       "Other    605\n",
       "Name: category_name, dtype: int64"
      ]
     },
     "execution_count": 39,
     "metadata": {},
     "output_type": "execute_result"
    }
   ],
   "source": [
    "df_train_sample[df_train_sample['number_of_categories'] == 1]['category_name'].value_counts()"
   ]
  },
  {
   "cell_type": "markdown",
   "metadata": {},
   "source": [
    "The products where `category_name` has only **1 level** correspond to the ones with the value **'Other'** for this variable."
   ]
  },
  {
   "cell_type": "code",
   "execution_count": 40,
   "metadata": {},
   "outputs": [
    {
     "data": {
      "text/plain": [
       "Sports & Outdoors/Exercise/Dance/Ballet            74\n",
       "Sports & Outdoors/Outdoors/Indoor/Outdoor Games    35\n",
       "Men/Coats & Jackets/Flight/Bomber                  28\n",
       "Men/Coats & Jackets/Varsity/Baseball                7\n",
       "Name: category_name, dtype: int64"
      ]
     },
     "execution_count": 40,
     "metadata": {},
     "output_type": "execute_result"
    }
   ],
   "source": [
    "df_train_sample[df_train_sample['number_of_categories'] == 4]['category_name'].value_counts()"
   ]
  },
  {
   "cell_type": "code",
   "execution_count": 41,
   "metadata": {},
   "outputs": [
    {
     "data": {
      "text/plain": [
       "Electronics/Computers & Tablets/iPad/Tablet/eBook Readers    203\n",
       "Electronics/Computers & Tablets/iPad/Tablet/eBook Access     127\n",
       "Name: category_name, dtype: int64"
      ]
     },
     "execution_count": 41,
     "metadata": {},
     "output_type": "execute_result"
    }
   ],
   "source": [
    "df_train_sample[df_train_sample['number_of_categories'] == 5]['category_name'].value_counts()"
   ]
  },
  {
   "cell_type": "markdown",
   "metadata": {},
   "source": [
    "Some other products have **4 or 5 levels** for `category_name`."
   ]
  },
  {
   "cell_type": "markdown",
   "metadata": {},
   "source": [
    "Let's create a function to extract this information and store it in 5 new features:\n",
    ">* main_category\n",
    "* subcategory_1\n",
    "* subcategory_2\n",
    "* subcategory_3\n",
    "* subcategory_4"
   ]
  },
  {
   "cell_type": "code",
   "execution_count": 42,
   "metadata": {},
   "outputs": [],
   "source": [
    "def extract_all_categories(category_name):\n",
    "    \"\"\"Returns a list of the different categories.\n",
    "    \n",
    "    The list to be returned has a fixed length of 5.\n",
    "    In cases where there aren't enough subcategories,\n",
    "    the remaining elements of the list have the value 'None'.\n",
    "\n",
    "    Args:\n",
    "        category_name (str): The category name to be split.\n",
    "\n",
    "    Returns:\n",
    "        list: The list of categories.   \n",
    "\n",
    "    \"\"\"\n",
    "    categories = []\n",
    "    \n",
    "    for i in range(len(category_name.split('/'))):\n",
    "        categories.append(category_name.split('/')[i])\n",
    "        \n",
    "    list_with_nones = ['None'] * (4-i)\n",
    "    categories.extend(list_with_nones)\n",
    "    \n",
    "    return categories"
   ]
  },
  {
   "cell_type": "code",
   "execution_count": 43,
   "metadata": {},
   "outputs": [],
   "source": [
    "df_train_sample['main_category'], df_train_sample['subcategory_1'], df_train_sample['subcategory_2'], df_train_sample['subcategory_3'], df_train_sample['subcategory_4'] = zip(*df_train_sample['category_name'].apply(extract_all_categories))"
   ]
  },
  {
   "cell_type": "code",
   "execution_count": 44,
   "metadata": {},
   "outputs": [],
   "source": [
    "# drop column \"number_of_categories\"\n",
    "df_train_sample.drop('number_of_categories', axis = 1, inplace = True)"
   ]
  },
  {
   "cell_type": "code",
   "execution_count": 45,
   "metadata": {},
   "outputs": [
    {
     "data": {
      "text/plain": [
       "Index(['train_id', 'name', 'item_condition_id', 'category_name', 'brand_name',\n",
       "       'price', 'shipping', 'item_description', 'main_category',\n",
       "       'subcategory_1', 'subcategory_2', 'subcategory_3', 'subcategory_4'],\n",
       "      dtype='object')"
      ]
     },
     "execution_count": 45,
     "metadata": {},
     "output_type": "execute_result"
    }
   ],
   "source": [
    "df_train_sample.columns"
   ]
  },
  {
   "cell_type": "markdown",
   "metadata": {},
   "source": [
    "It's now time to explore the `item_description` feature. Let's see how we can extract useful information from it using some **natural language processing techniques**."
   ]
  },
  {
   "cell_type": "markdown",
   "metadata": {},
   "source": [
    "<img src=\"https://deeplearninganalytics.org/wp-content/uploads/2019/04/nlp.png\">\n",
    "\n",
    "### NATURAL LANGUAGE PROCESSING\n",
    "\n",
    "In order to perform machine learning on text, we need to **transform our item descriptions into vector representations**. This process is called **feature extraction or vectorization**. We need to change the way we think about text from a sequence of words to points that occupy a high-dimensional semantic space.\n",
    "\n",
    "The simplest encoding of this semantic space is a **bag-of-words (BoW)** model based on simple counts of how many times each word appears on a given text (**frequency**). Other models include **one-hot-encoding**, **TF-IDF (Term Frequence-Inverse Document Frequency)**, and **distributed representations**.\n",
    "\n",
    "### Text vectorization methods\n",
    "\n",
    ">* **Frequency** - converts a text document into a flat vector (it doesn't contain any of the original text structures) and only counts term frequencies.\n",
    "<br><br>\n",
    "* **One-Hot Encoding** - in the simplest BoW model, tokens (atomic unit of data in text analysis) that occur very frequently can skew the word count distribution. One-hot encoding solves this problem: each element of a one-hot encoded vector reflects either the presence or absence of the token in the described text (each particular vector index is either 1 (token is present) or 0 (token is absent). This is also known as a boolean bag-of-words.\n",
    "<br><br>\n",
    "* **TF-IDF** - the term frequency-inverse document frequency encoding normalizes the frequency of tokens in a document (in our case, each one of the text descriptions) with respect to the rest of the corpus (all of the text descriptions).\n",
    "<br><br>\n",
    "$$tfidf(t, d, D) = tf(t,d).idf(t,D)$$\n",
    "<br>\n",
    "And generally:<br><br>\n",
    "    * term frequency of a term $t$ given a document $d$: $tf(t, d) = 1 + \\log f_{t, d}$<br><br>\n",
    "    * inverse document frequency of a term $t$ given the set of documents $D$: $idf(t, D) = \\log \\left(1+ \\frac{N}{n_{t}}\\right)$, where $N$ is the number of documents and $n_{t}$ is the number of occurrences of the term $t$ in all documents. \n",
    "<br><br>\n",
    "* **Distributed Representation** - while the previous methods enable us to represent documents in a vector space, it is often useful to simultaneously encode the similarities between documents in the context of that same vector space. In order to achieve this, we need to encode text along a continuous scale (the document vectors can have both positive and negative elements) with a distributed representation. *Word2vec* implements a word embedding model that enables us to create these kinds of disributed representations."
   ]
  },
  {
   "cell_type": "markdown",
   "metadata": {},
   "source": [
    "### Text Normalization\n",
    "\n",
    "The performance of an NLP pipeline is highly dependent on vocabulary size. Text normalization allows us to reduce our vocabulary and hence the number of dimensions of our feature space. In order to do this, we will: \n",
    "\n",
    "> * lowercase words\n",
    "* remove stopwords (most common words)\n",
    "* remove punctuation\n",
    "* apply a stemmer (removes word affixes by identifying a common stem among various forms of a word)"
   ]
  },
  {
   "cell_type": "code",
   "execution_count": 46,
   "metadata": {},
   "outputs": [],
   "source": [
    "# define function for text normalization\n",
    "import string\n",
    "\n",
    "from sklearn.feature_extraction.text import ENGLISH_STOP_WORDS as stopwords\n",
    "from nltk.stem.porter import PorterStemmer\n",
    "\n",
    "def text_normalization(text):\n",
    "    # lowercase words\n",
    "    text = text.lower()\n",
    "    # remove stopwords\n",
    "    text = ' '.join([i for i in text.split(' ') if i not in stopwords])\n",
    "    # remove punctuation\n",
    "    text = text.translate(str.maketrans('', '', string.punctuation))\n",
    "    # stemming\n",
    "    stemmer = PorterStemmer()\n",
    "    text = ' '.join([stemmer.stem(word) for word in text.split()])\n",
    "    return text"
   ]
  },
  {
   "cell_type": "code",
   "execution_count": 47,
   "metadata": {},
   "outputs": [
    {
     "name": "stdout",
     "output_type": "stream",
     "text": [
      "Wall time: 1min 49s\n"
     ]
    }
   ],
   "source": [
    "%%time\n",
    "\n",
    "df_train_sample['item_description_normalized'] = df_train_sample['item_description'].apply(text_normalization)"
   ]
  },
  {
   "cell_type": "code",
   "execution_count": 48,
   "metadata": {},
   "outputs": [
    {
     "data": {
      "text/plain": [
       "'This listing is for all 4 Totoro washi tape for a limited time offer you also receive 1 randomly selected Totoro pen. Plus ghibli stickers add on Tags: kawaii'"
      ]
     },
     "execution_count": 48,
     "metadata": {},
     "output_type": "execute_result"
    }
   ],
   "source": [
    "# check first item description\n",
    "df_train_sample['item_description'][0]"
   ]
  },
  {
   "cell_type": "code",
   "execution_count": 49,
   "metadata": {},
   "outputs": [
    {
     "data": {
      "text/plain": [
       "'list 4 totoro washi tape limit time offer receiv 1 randomli select totoro pen plu ghibli sticker add tag kawaii'"
      ]
     },
     "execution_count": 49,
     "metadata": {},
     "output_type": "execute_result"
    }
   ],
   "source": [
    "# check first item description after normalization and compare with previous result\n",
    "df_train_sample['item_description_normalized'][0]"
   ]
  },
  {
   "cell_type": "markdown",
   "metadata": {},
   "source": [
    "We can now **vectorize** our text. Before that, let's just save our dataframe to a *pickle* file."
   ]
  },
  {
   "cell_type": "code",
   "execution_count": 50,
   "metadata": {},
   "outputs": [],
   "source": [
    "df_train_sample.to_pickle(\"./df_preprocessed.pkl\")"
   ]
  },
  {
   "cell_type": "markdown",
   "metadata": {},
   "source": [
    "### Frequency with CountVectorizer"
   ]
  },
  {
   "cell_type": "code",
   "execution_count": 51,
   "metadata": {},
   "outputs": [],
   "source": [
    "from sklearn.feature_extraction.text import CountVectorizer\n",
    "\n",
    "vectorizer = CountVectorizer()"
   ]
  },
  {
   "cell_type": "code",
   "execution_count": 52,
   "metadata": {},
   "outputs": [],
   "source": [
    "item_description_bow = vectorizer.fit_transform(df_train_sample['item_description_normalized'])"
   ]
  },
  {
   "cell_type": "code",
   "execution_count": 53,
   "metadata": {},
   "outputs": [
    {
     "data": {
      "text/plain": [
       "<148167x61538 sparse matrix of type '<class 'numpy.int64'>'\n",
       "\twith 2154042 stored elements in Compressed Sparse Row format>"
      ]
     },
     "execution_count": 53,
     "metadata": {},
     "output_type": "execute_result"
    }
   ],
   "source": [
    "item_description_bow"
   ]
  },
  {
   "cell_type": "markdown",
   "metadata": {},
   "source": [
    "`item_description_bow` is a **sparse matrix**. We can now apply the same method to the other text variables of interest."
   ]
  },
  {
   "cell_type": "code",
   "execution_count": 54,
   "metadata": {},
   "outputs": [
    {
     "name": "stdout",
     "output_type": "stream",
     "text": [
      "<class 'pandas.core.frame.DataFrame'>\n",
      "Int64Index: 148167 entries, 0 to 148253\n",
      "Data columns (total 14 columns):\n",
      "train_id                       148167 non-null int64\n",
      "name                           148167 non-null object\n",
      "item_condition_id              148167 non-null int64\n",
      "category_name                  148167 non-null object\n",
      "brand_name                     148167 non-null object\n",
      "price                          148167 non-null float64\n",
      "shipping                       148167 non-null int64\n",
      "item_description               148167 non-null object\n",
      "main_category                  148167 non-null object\n",
      "subcategory_1                  148167 non-null object\n",
      "subcategory_2                  148167 non-null object\n",
      "subcategory_3                  148167 non-null object\n",
      "subcategory_4                  148167 non-null object\n",
      "item_description_normalized    148167 non-null object\n",
      "dtypes: float64(1), int64(3), object(10)\n",
      "memory usage: 22.0+ MB\n"
     ]
    }
   ],
   "source": [
    "df_train_sample.info()"
   ]
  },
  {
   "cell_type": "code",
   "execution_count": 55,
   "metadata": {},
   "outputs": [],
   "source": [
    "name_bow = vectorizer.fit_transform(df_train_sample['name'])\n",
    "brand_name_bow = vectorizer.fit_transform(df_train_sample['brand_name'])\n",
    "main_category_bow = vectorizer.fit_transform(df_train_sample['main_category'])\n",
    "subcategory_1_bow = vectorizer.fit_transform(df_train_sample['subcategory_1'])\n",
    "subcategory_2_bow = vectorizer.fit_transform(df_train_sample['subcategory_2'])\n",
    "subcategory_3_bow = vectorizer.fit_transform(df_train_sample['subcategory_3'])\n",
    "subcategory_4_bow = vectorizer.fit_transform(df_train_sample['subcategory_4'])"
   ]
  },
  {
   "cell_type": "markdown",
   "metadata": {},
   "source": [
    "We can now convert the numerical columns of interest into sparse matrices and stack all our features into a single sparse matrix."
   ]
  },
  {
   "cell_type": "code",
   "execution_count": 56,
   "metadata": {},
   "outputs": [],
   "source": [
    "from scipy.sparse import hstack, csr_matrix\n",
    "\n",
    "item_condition_id_sparse = csr_matrix(df_train_sample['item_condition_id'])\n",
    "shipping_sparse = csr_matrix(df_train_sample['shipping'])"
   ]
  },
  {
   "cell_type": "code",
   "execution_count": 57,
   "metadata": {},
   "outputs": [],
   "source": [
    "sparse_merge_bow = hstack((name_bow, brand_name_bow, main_category_bow, subcategory_1_bow, subcategory_2_bow, subcategory_3_bow, subcategory_4_bow, item_condition_id_sparse.T, shipping_sparse.T, item_description_bow), format='csr', dtype='float32')\n",
    "#dtype=float32 because of lightgbm, otherwise we get an error"
   ]
  },
  {
   "cell_type": "code",
   "execution_count": 58,
   "metadata": {},
   "outputs": [
    {
     "data": {
      "text/plain": [
       "<148167x96434 sparse matrix of type '<class 'numpy.float32'>'\n",
       "\twith 4107160 stored elements in Compressed Sparse Row format>"
      ]
     },
     "execution_count": 58,
     "metadata": {},
     "output_type": "execute_result"
    }
   ],
   "source": [
    "sparse_merge_bow"
   ]
  },
  {
   "cell_type": "markdown",
   "metadata": {},
   "source": [
    "### One-Hot Encoding with CountVectorizer"
   ]
  },
  {
   "cell_type": "code",
   "execution_count": 59,
   "metadata": {},
   "outputs": [],
   "source": [
    "vectorizer = CountVectorizer(binary=True)"
   ]
  },
  {
   "cell_type": "code",
   "execution_count": 60,
   "metadata": {},
   "outputs": [],
   "source": [
    "item_description_ohe = vectorizer.fit_transform(df_train_sample['item_description_normalized'])\n",
    "name_ohe = vectorizer.fit_transform(df_train_sample['name'])\n",
    "brand_name_ohe = vectorizer.fit_transform(df_train_sample['brand_name'])\n",
    "main_category_ohe = vectorizer.fit_transform(df_train_sample['main_category'])\n",
    "subcategory_1_ohe = vectorizer.fit_transform(df_train_sample['subcategory_1'])\n",
    "subcategory_2_ohe = vectorizer.fit_transform(df_train_sample['subcategory_2'])\n",
    "subcategory_3_ohe = vectorizer.fit_transform(df_train_sample['subcategory_3'])\n",
    "subcategory_4_ohe = vectorizer.fit_transform(df_train_sample['subcategory_4'])"
   ]
  },
  {
   "cell_type": "code",
   "execution_count": 61,
   "metadata": {},
   "outputs": [],
   "source": [
    "sparse_merge_ohe = hstack((name_ohe, brand_name_ohe, main_category_ohe, subcategory_1_ohe, subcategory_2_ohe, subcategory_3_ohe, subcategory_4_ohe, item_condition_id_sparse.T, shipping_sparse.T, item_description_ohe), format='csr', dtype='float32')"
   ]
  },
  {
   "cell_type": "code",
   "execution_count": 62,
   "metadata": {},
   "outputs": [
    {
     "data": {
      "text/plain": [
       "<148167x96434 sparse matrix of type '<class 'numpy.float32'>'\n",
       "\twith 4107160 stored elements in Compressed Sparse Row format>"
      ]
     },
     "execution_count": 62,
     "metadata": {},
     "output_type": "execute_result"
    }
   ],
   "source": [
    "sparse_merge_ohe"
   ]
  },
  {
   "cell_type": "markdown",
   "metadata": {},
   "source": [
    "### TF-IDF with TfidfVectorizer"
   ]
  },
  {
   "cell_type": "code",
   "execution_count": 63,
   "metadata": {},
   "outputs": [],
   "source": [
    "from sklearn.feature_extraction.text import TfidfVectorizer\n",
    "\n",
    "vectorizer = TfidfVectorizer()"
   ]
  },
  {
   "cell_type": "code",
   "execution_count": 64,
   "metadata": {},
   "outputs": [],
   "source": [
    "item_description_tfidf = vectorizer.fit_transform(df_train_sample['item_description_normalized'])"
   ]
  },
  {
   "cell_type": "code",
   "execution_count": 65,
   "metadata": {},
   "outputs": [
    {
     "data": {
      "text/plain": [
       "<148167x61538 sparse matrix of type '<class 'numpy.float64'>'\n",
       "\twith 2154042 stored elements in Compressed Sparse Row format>"
      ]
     },
     "execution_count": 65,
     "metadata": {},
     "output_type": "execute_result"
    }
   ],
   "source": [
    "item_description_tfidf"
   ]
  },
  {
   "cell_type": "markdown",
   "metadata": {},
   "source": [
    "It makes sense to apply the TfidfVectorizer only to the `item_description` feature since the other text features are not so lengthy and include more objective information about the product (brand, category, etc.)"
   ]
  },
  {
   "cell_type": "code",
   "execution_count": 66,
   "metadata": {},
   "outputs": [],
   "source": [
    "sparse_merge_tfidf = hstack((name_ohe, brand_name_ohe, main_category_ohe, subcategory_1_ohe, subcategory_2_ohe, subcategory_3_ohe, subcategory_4_ohe, item_condition_id_sparse.T, shipping_sparse.T, item_description_tfidf), format='csr', dtype='float32')"
   ]
  },
  {
   "cell_type": "code",
   "execution_count": 67,
   "metadata": {},
   "outputs": [
    {
     "data": {
      "text/plain": [
       "<148167x96434 sparse matrix of type '<class 'numpy.float32'>'\n",
       "\twith 4107160 stored elements in Compressed Sparse Row format>"
      ]
     },
     "execution_count": 67,
     "metadata": {},
     "output_type": "execute_result"
    }
   ],
   "source": [
    "sparse_merge_tfidf"
   ]
  },
  {
   "cell_type": "markdown",
   "metadata": {},
   "source": [
    "### TF-IDF with TfidfVectorizer and N-grams"
   ]
  },
  {
   "cell_type": "markdown",
   "metadata": {},
   "source": [
    "With the previous methods, the meaning inherent to the order of the words is lost. But if we extend the concept of a token to include multiword tokens, or **n-grams**, we can retain some of that information.\n",
    "\n",
    "In this case, we will consider both the **1-grams, or unigrams**, and the **2-grams, or bigrams**. In order to keep our vocabulary at a reasonable size, we will include only the 100 000 most common unigrams and bigrams of the `item_description` feature."
   ]
  },
  {
   "cell_type": "code",
   "execution_count": 68,
   "metadata": {},
   "outputs": [],
   "source": [
    "vectorizer = TfidfVectorizer(ngram_range=(1,2), max_features=100000)"
   ]
  },
  {
   "cell_type": "code",
   "execution_count": 69,
   "metadata": {},
   "outputs": [],
   "source": [
    "item_description_tfidf_ngrams = vectorizer.fit_transform(df_train_sample['item_description_normalized'])"
   ]
  },
  {
   "cell_type": "code",
   "execution_count": 70,
   "metadata": {},
   "outputs": [
    {
     "data": {
      "text/plain": [
       "<148167x100000 sparse matrix of type '<class 'numpy.float64'>'\n",
       "\twith 3452855 stored elements in Compressed Sparse Row format>"
      ]
     },
     "execution_count": 70,
     "metadata": {},
     "output_type": "execute_result"
    }
   ],
   "source": [
    "item_description_tfidf_ngrams"
   ]
  },
  {
   "cell_type": "code",
   "execution_count": 71,
   "metadata": {},
   "outputs": [],
   "source": [
    "sparse_merge_tfidf_ngrams = hstack((name_ohe, brand_name_ohe, main_category_ohe, subcategory_1_ohe, subcategory_2_ohe, subcategory_3_ohe, subcategory_4_ohe, item_condition_id_sparse.T, shipping_sparse.T, item_description_tfidf_ngrams), format='csr', dtype='float32')"
   ]
  },
  {
   "cell_type": "code",
   "execution_count": 72,
   "metadata": {},
   "outputs": [
    {
     "data": {
      "text/plain": [
       "<148167x134896 sparse matrix of type '<class 'numpy.float32'>'\n",
       "\twith 5405973 stored elements in Compressed Sparse Row format>"
      ]
     },
     "execution_count": 72,
     "metadata": {},
     "output_type": "execute_result"
    }
   ],
   "source": [
    "sparse_merge_tfidf_ngrams"
   ]
  },
  {
   "cell_type": "markdown",
   "metadata": {},
   "source": [
    "Let's include also another sparse matrix with `item_description` vectorized with the TF-IDF method using n-grams and the other text features vectorized with the plain frequency method."
   ]
  },
  {
   "cell_type": "code",
   "execution_count": 73,
   "metadata": {},
   "outputs": [],
   "source": [
    "sparse_merge_tfidf_ngrams_bow = hstack((name_bow, brand_name_bow, main_category_bow, subcategory_1_bow, subcategory_2_bow, subcategory_3_bow, subcategory_4_bow, item_condition_id_sparse.T, shipping_sparse.T, item_description_tfidf_ngrams), format='csr', dtype='float32')"
   ]
  },
  {
   "cell_type": "markdown",
   "metadata": {},
   "source": [
    "<a id='modeling'></a>\n",
    "## Create and test models"
   ]
  },
  {
   "cell_type": "markdown",
   "metadata": {},
   "source": [
    "As we've seen before, we can apply a **log transformation to the price variable** so its distribution is closer to a normal distribution."
   ]
  },
  {
   "cell_type": "code",
   "execution_count": 74,
   "metadata": {},
   "outputs": [],
   "source": [
    "# target as log(price+1)\n",
    "target = np.log1p(df_train_sample['price'])"
   ]
  },
  {
   "cell_type": "code",
   "execution_count": 75,
   "metadata": {},
   "outputs": [
    {
     "data": {
      "text/plain": [
       "(148167,)"
      ]
     },
     "execution_count": 75,
     "metadata": {},
     "output_type": "execute_result"
    }
   ],
   "source": [
    "target.shape"
   ]
  },
  {
   "cell_type": "markdown",
   "metadata": {},
   "source": [
    "Given that the RMSE is calculated as:\n",
    "\n",
    "$$RMSE=\\sqrt{\\frac{1}{n} \\sum\\limits_{i=1}^{n}{(p_{i}-a_{i})^2}}$$\n",
    "\n",
    "Where:\n",
    "\n",
    "* $n$ is the total number of observations in the data set,\n",
    "* $p_{i}$ is your prediction of price, and\n",
    "* $a_{i}$ is the actual sale price for i.\n",
    "\n",
    "<br>If we replace $p_{i}$ by $log(p_{i}+1)$ and $a_{i}$ by $log(a_{i}+1)$, we get the RMSLE:<br><br>\n",
    "\n",
    "$$ϵ=\\sqrt{\\frac{1}{n} \\sum\\limits_{i=1}^{n}{(log(p_{i}+1)-log(a_{i}+1))^2}}$$\n",
    "\n",
    "<br>Since we are using log(price+1) as our target, this allows us to easily calculate the RMSLE."
   ]
  },
  {
   "cell_type": "code",
   "execution_count": 76,
   "metadata": {},
   "outputs": [],
   "source": [
    "# imports for model creation and testing\n",
    "from sklearn.metrics import mean_squared_error\n",
    "from sklearn.model_selection import KFold, cross_val_score\n",
    "\n",
    "from sklearn.tree import DecisionTreeRegressor\n",
    "from sklearn.neighbors import KNeighborsRegressor\n",
    "from sklearn.linear_model import Ridge\n",
    "from sklearn.linear_model import Lasso\n",
    "from sklearn.linear_model import ElasticNet"
   ]
  },
  {
   "cell_type": "code",
   "execution_count": 77,
   "metadata": {},
   "outputs": [],
   "source": [
    "# RMSLE Cross Validation Function\n",
    "# using the simplest vectorization method --> sparse_merge_bow\n",
    "def rmsle_cv(model):\n",
    "    kf = KFold(n_splits=3, shuffle=True, random_state=42)\n",
    "    rmse = np.sqrt(-cross_val_score(model, sparse_merge_bow, target, scoring=\"neg_mean_squared_error\", cv = kf))\n",
    "    return(rmse.mean())"
   ]
  },
  {
   "cell_type": "code",
   "execution_count": 78,
   "metadata": {},
   "outputs": [],
   "source": [
    "# create a list of models and instantiate them\n",
    "models = []\n",
    "models.append(('Decision Tree Regression', DecisionTreeRegressor(random_state=42)))\n",
    "models.append(('K-Nearest Neighbors Regression', KNeighborsRegressor()))\n",
    "models.append(('Ridge Regression', Ridge(random_state=42)))\n",
    "models.append(('Lasso Regression', Lasso(random_state=42)))\n",
    "models.append(('ElasticNet Regression', ElasticNet(random_state=42)))"
   ]
  },
  {
   "cell_type": "code",
   "execution_count": 79,
   "metadata": {},
   "outputs": [
    {
     "name": "stdout",
     "output_type": "stream",
     "text": [
      "Decision Tree Regression: 0.686366 (24.033434 minutes)\n",
      "K-Nearest Neighbors Regression: 0.604358 (13.983027 minutes)\n",
      "Ridge Regression: 0.515632 (1.622911 minutes)\n",
      "Lasso Regression: 0.747726 (0.621275 minutes)\n",
      "ElasticNet Regression: 0.747726 (0.619738 minutes)\n"
     ]
    }
   ],
   "source": [
    "import time\n",
    "\n",
    "for name, model in models:\n",
    "    start = time.time()\n",
    "    cv_rmsle = rmsle_cv(model)\n",
    "    end = time.time()\n",
    "    msg = \"%s: %f (%f minutes)\" % (name, cv_rmsle, (end-start)/60)\n",
    "    print(msg)"
   ]
  },
  {
   "cell_type": "markdown",
   "metadata": {},
   "source": [
    "The **regularized linear models** (Ridge, Lasso, and ElasticNet) **are much faster** in general, and the **best result is obtained with Ridge Regression**.\n",
    "\n",
    "Regularization is a way to force the learning algorithm to build a less complex model, reducing overfitting.\n",
    "\n",
    "The two most widely used types of regularization are called **L1 (Lasso) and L2 (Ridge) regularization**. These two methods are combined in ElasticNet Regression."
   ]
  },
  {
   "cell_type": "markdown",
   "metadata": {},
   "source": [
    "We can now train our model using the Ridge Regression algorithm and the **different text vectorization methods** we have used before."
   ]
  },
  {
   "cell_type": "code",
   "execution_count": 80,
   "metadata": {
    "scrolled": true
   },
   "outputs": [
    {
     "name": "stdout",
     "output_type": "stream",
     "text": [
      "Frequency: 0.507204\n",
      "One-Hot Encoding: 0.528785\n",
      "TF-IDF: 0.507110\n",
      "TF-IDF + N-grams: 0.501875\n",
      "TF-IDF + N-grams + BoW: 0.502152\n"
     ]
    }
   ],
   "source": [
    "from sklearn.model_selection import train_test_split\n",
    "\n",
    "methods = {'Frequency': sparse_merge_bow, 'One-Hot Encoding': sparse_merge_ohe, \n",
    "           'TF-IDF': sparse_merge_tfidf, 'TF-IDF + N-grams': sparse_merge_tfidf_ngrams, \n",
    "          'TF-IDF + N-grams + BoW': sparse_merge_tfidf_ngrams_bow}\n",
    "\n",
    "for method, matrix in methods.items(): \n",
    "    \n",
    "    # split training data into train and test sets so we can evaluate our model\n",
    "    features_train, features_test, target_train, target_test = train_test_split(matrix, target, test_size=0.3, random_state=42)\n",
    "\n",
    "    # fit\n",
    "    my_model = Ridge(random_state=42) \n",
    "    my_model.fit(features_train, target_train)\n",
    "\n",
    "    # predict\n",
    "    ridge_pred_prices = my_model.predict(features_test)\n",
    "\n",
    "    # RMSLE\n",
    "    RMSLE = np.sqrt(mean_squared_error(target_test, ridge_pred_prices))\n",
    "    msg = \"%s: %f\" % (method, RMSLE)\n",
    "    print(msg)"
   ]
  },
  {
   "cell_type": "markdown",
   "metadata": {},
   "source": [
    "The best result is obtained for the **TF-IDF + N-grams** method."
   ]
  },
  {
   "cell_type": "markdown",
   "metadata": {},
   "source": [
    "### Hyperparameter tuning with GridSearchCV"
   ]
  },
  {
   "cell_type": "markdown",
   "metadata": {},
   "source": [
    "Using the **TF-IDF + N-grams** method for text vectorization and the **Ridge Regression** algorithm, we can now tune some of the hyperparameters of our model."
   ]
  },
  {
   "cell_type": "code",
   "execution_count": 81,
   "metadata": {},
   "outputs": [],
   "source": [
    "# split training data into train and test sets using the sparse_merge_tfidf_ngrams matrix\n",
    "features_train, features_test, target_train, target_test = train_test_split(sparse_merge_tfidf_ngrams, target, test_size=0.3, random_state=42)"
   ]
  },
  {
   "cell_type": "code",
   "execution_count": 82,
   "metadata": {},
   "outputs": [
    {
     "name": "stdout",
     "output_type": "stream",
     "text": [
      "Wall time: 2min 48s\n"
     ]
    }
   ],
   "source": [
    "%%time\n",
    "from sklearn.model_selection import GridSearchCV\n",
    "\n",
    "param_grid = [{'alpha': [0.1, 1, 10, 100], 'fit_intercept': [True, False]}]\n",
    "\n",
    "my_model = Ridge(random_state=42) \n",
    "\n",
    "grid_search = GridSearchCV(my_model, param_grid, cv = 3, scoring = 'neg_mean_squared_error')\n",
    "\n",
    "grid_search.fit(features_train, target_train)"
   ]
  },
  {
   "cell_type": "code",
   "execution_count": 83,
   "metadata": {},
   "outputs": [
    {
     "data": {
      "text/plain": [
       "{'alpha': 10, 'fit_intercept': False}"
      ]
     },
     "execution_count": 83,
     "metadata": {},
     "output_type": "execute_result"
    }
   ],
   "source": [
    "grid_search.best_params_"
   ]
  },
  {
   "cell_type": "code",
   "execution_count": 84,
   "metadata": {},
   "outputs": [
    {
     "name": "stdout",
     "output_type": "stream",
     "text": [
      "0.5601122247229372 {'alpha': 0.1, 'fit_intercept': True}\n",
      "0.6049614558352003 {'alpha': 0.1, 'fit_intercept': False}\n",
      "0.5159239632095894 {'alpha': 1, 'fit_intercept': True}\n",
      "0.5154341398436992 {'alpha': 1, 'fit_intercept': False}\n",
      "0.5041893419112278 {'alpha': 10, 'fit_intercept': True}\n",
      "0.5041777425996292 {'alpha': 10, 'fit_intercept': False}\n",
      "0.5405076144603368 {'alpha': 100, 'fit_intercept': True}\n",
      "0.5414363541239297 {'alpha': 100, 'fit_intercept': False}\n"
     ]
    }
   ],
   "source": [
    "# print result for all combinations\n",
    "cvres = grid_search.cv_results_\n",
    "for mean_score, params in zip(cvres['mean_test_score'], cvres['params']):\n",
    "    print(np.sqrt(-mean_score), params)"
   ]
  },
  {
   "cell_type": "markdown",
   "metadata": {},
   "source": [
    "The best results are obtained for **alpha=10** and **fit_intercept=False**. Let's train our model with these hyperparameters."
   ]
  },
  {
   "cell_type": "code",
   "execution_count": 85,
   "metadata": {},
   "outputs": [
    {
     "name": "stdout",
     "output_type": "stream",
     "text": [
      "RMSLE: 0.4941340369324778\n",
      "Wall time: 3.66 s\n"
     ]
    }
   ],
   "source": [
    "%%time\n",
    "# split training data into train and test sets so we can evaluate our model\n",
    "features_train, features_test, target_train, target_test = train_test_split(sparse_merge_tfidf_ngrams, target, test_size=0.3, random_state=42)\n",
    "\n",
    "# fit\n",
    "my_model = Ridge(alpha=10, fit_intercept=False, random_state=42) \n",
    "my_model.fit(features_train, target_train)\n",
    "\n",
    "# predict\n",
    "ridge_pred_prices = my_model.predict(features_test)\n",
    "\n",
    "# RMSLE\n",
    "print('RMSLE:', np.sqrt(mean_squared_error(target_test, ridge_pred_prices)))"
   ]
  },
  {
   "cell_type": "markdown",
   "metadata": {},
   "source": [
    "### Ensemble Learning\n",
    ">* Baggging\n",
    "* Boosting\n",
    "\n",
    "In ensemble learning, the focus is on training a large number of low-accuracy models and then combining the predictions given by those models to obtain a high-accuracy meta-model.\n",
    "\n",
    "The two main ensemble learning methods are **bagging** and **boosting**.\n",
    "\n",
    "In bagging, multiple weak models are trained on different random subsets of the training set and are then combined.\n",
    "\n",
    "With boosting, multiple models are created iteratively using the original training data. Each new model tries to \"correct\" its predecessor and the ensemble model is a combination of these multiple models."
   ]
  },
  {
   "cell_type": "markdown",
   "metadata": {},
   "source": [
    "#### Bagging: Random Forest"
   ]
  },
  {
   "cell_type": "code",
   "execution_count": 86,
   "metadata": {},
   "outputs": [],
   "source": [
    "from sklearn.ensemble import RandomForestRegressor"
   ]
  },
  {
   "cell_type": "code",
   "execution_count": 87,
   "metadata": {},
   "outputs": [
    {
     "name": "stdout",
     "output_type": "stream",
     "text": [
      "RMSLE: 0.5966677327504947\n",
      "Wall time: 11min 26s\n"
     ]
    }
   ],
   "source": [
    "%%time\n",
    "# split training data into train and test sets so we can evaluate our model\n",
    "features_train, features_test, target_train, target_test = train_test_split(sparse_merge_tfidf_ngrams, target, test_size=0.3, random_state=42)\n",
    "\n",
    "# fit\n",
    "my_model = RandomForestRegressor(n_estimators=3, random_state=42) \n",
    "my_model.fit(features_train, target_train)\n",
    "\n",
    "# predict\n",
    "pred_prices = my_model.predict(features_test)\n",
    "\n",
    "# RMSLE\n",
    "print('RMSLE:', np.sqrt(mean_squared_error(target_test, pred_prices)))"
   ]
  },
  {
   "cell_type": "markdown",
   "metadata": {},
   "source": [
    "Even for a low value of n_estimators (number of trees in the forest) the running time is already quite high."
   ]
  },
  {
   "cell_type": "markdown",
   "metadata": {},
   "source": [
    "#### Boosting: LightGBM and XGBoost"
   ]
  },
  {
   "cell_type": "code",
   "execution_count": 88,
   "metadata": {},
   "outputs": [],
   "source": [
    "import lightgbm as lgb\n",
    "from xgboost import XGBRegressor"
   ]
  },
  {
   "cell_type": "code",
   "execution_count": 89,
   "metadata": {},
   "outputs": [
    {
     "name": "stdout",
     "output_type": "stream",
     "text": [
      "RMSLE: 0.5370812976298428\n",
      "Wall time: 26.8 s\n"
     ]
    }
   ],
   "source": [
    "%%time\n",
    "# split training data into train and test sets so we can evaluate our model\n",
    "features_train, features_test, target_train, target_test = train_test_split(sparse_merge_tfidf_ngrams, target, test_size=0.3, random_state=42)\n",
    "\n",
    "# fit\n",
    "my_model = lgb.LGBMRegressor(random_state=42) \n",
    "my_model.fit(features_train, target_train)\n",
    "\n",
    "# predict\n",
    "lgbm_pred_prices = my_model.predict(features_test)\n",
    "\n",
    "# RMSLE\n",
    "print('RMSLE:', np.sqrt(mean_squared_error(target_test, lgbm_pred_prices)))"
   ]
  },
  {
   "cell_type": "code",
   "execution_count": 90,
   "metadata": {},
   "outputs": [
    {
     "name": "stdout",
     "output_type": "stream",
     "text": [
      "RMSLE: 0.609968656018448\n",
      "Wall time: 42.8 s\n"
     ]
    }
   ],
   "source": [
    "%%time\n",
    "# split training data into train and test sets so we can evaluate our model\n",
    "features_train, features_test, target_train, target_test = train_test_split(sparse_merge_tfidf_ngrams, target, test_size=0.3, random_state=42)\n",
    "\n",
    "# fit\n",
    "my_model = XGBRegressor(random_state=42) \n",
    "my_model.fit(features_train, target_train)\n",
    "\n",
    "# predict\n",
    "pred_prices = my_model.predict(features_test)\n",
    "\n",
    "# RMSLE\n",
    "print('RMSLE:', np.sqrt(mean_squared_error(target_test, pred_prices)))"
   ]
  },
  {
   "cell_type": "markdown",
   "metadata": {},
   "source": [
    "From these 3 models, the **best result is obtained with LightGBM**. This model was also the fastest to run. We can now try to tune some of its hyperparameters."
   ]
  },
  {
   "cell_type": "markdown",
   "metadata": {},
   "source": [
    "### Hyperparameter tuning with GridSearchCV"
   ]
  },
  {
   "cell_type": "code",
   "execution_count": 91,
   "metadata": {},
   "outputs": [
    {
     "name": "stdout",
     "output_type": "stream",
     "text": [
      "Fitting 3 folds for each of 2 candidates, totalling 6 fits\n",
      "[CV] n_estimators=100, num_leaves=50 .................................\n"
     ]
    },
    {
     "name": "stderr",
     "output_type": "stream",
     "text": [
      "[Parallel(n_jobs=1)]: Using backend SequentialBackend with 1 concurrent workers.\n"
     ]
    },
    {
     "name": "stdout",
     "output_type": "stream",
     "text": [
      "[CV] .................. n_estimators=100, num_leaves=50, total=  51.1s\n",
      "[CV] n_estimators=100, num_leaves=50 .................................\n"
     ]
    },
    {
     "name": "stderr",
     "output_type": "stream",
     "text": [
      "[Parallel(n_jobs=1)]: Done   1 out of   1 | elapsed:   51.0s remaining:    0.0s\n"
     ]
    },
    {
     "name": "stdout",
     "output_type": "stream",
     "text": [
      "[CV] .................. n_estimators=100, num_leaves=50, total=  49.8s\n",
      "[CV] n_estimators=100, num_leaves=50 .................................\n",
      "[CV] .................. n_estimators=100, num_leaves=50, total=  50.2s\n",
      "[CV] n_estimators=1000, num_leaves=50 ................................\n",
      "[CV] ................. n_estimators=1000, num_leaves=50, total= 6.9min\n",
      "[CV] n_estimators=1000, num_leaves=50 ................................\n",
      "[CV] ................. n_estimators=1000, num_leaves=50, total= 7.0min\n",
      "[CV] n_estimators=1000, num_leaves=50 ................................\n",
      "[CV] ................. n_estimators=1000, num_leaves=50, total= 7.0min\n"
     ]
    },
    {
     "name": "stderr",
     "output_type": "stream",
     "text": [
      "[Parallel(n_jobs=1)]: Done   6 out of   6 | elapsed: 23.3min finished\n"
     ]
    },
    {
     "data": {
      "text/plain": [
       "GridSearchCV(cv=3, error_score='raise-deprecating',\n",
       "             estimator=LGBMRegressor(boosting_type='gbdt', class_weight=None,\n",
       "                                     colsample_bytree=1.0,\n",
       "                                     importance_type='split', learning_rate=0.1,\n",
       "                                     max_depth=-1, min_child_samples=20,\n",
       "                                     min_child_weight=0.001, min_split_gain=0.0,\n",
       "                                     n_estimators=100, n_jobs=-1, num_leaves=31,\n",
       "                                     objective=None, random_state=42,\n",
       "                                     reg_alpha=0.0, reg_lambda=0.0, silent=True,\n",
       "                                     subsample=1.0, subsample_for_bin=200000,\n",
       "                                     subsample_freq=0),\n",
       "             iid='warn', n_jobs=None,\n",
       "             param_grid=[{'n_estimators': [100, 1000], 'num_leaves': [50]}],\n",
       "             pre_dispatch='2*n_jobs', refit=True, return_train_score=False,\n",
       "             scoring='neg_mean_squared_error', verbose=2)"
      ]
     },
     "execution_count": 91,
     "metadata": {},
     "output_type": "execute_result"
    }
   ],
   "source": [
    "param_grid = [{'num_leaves': [50], 'n_estimators': [100, 1000]}]\n",
    "\n",
    "my_model = lgb.LGBMRegressor(random_state=42) \n",
    "\n",
    "grid_search = GridSearchCV(my_model, param_grid, cv = 3, scoring = 'neg_mean_squared_error', verbose=2)\n",
    "\n",
    "grid_search.fit(features_train, target_train)"
   ]
  },
  {
   "cell_type": "code",
   "execution_count": 92,
   "metadata": {},
   "outputs": [
    {
     "data": {
      "text/plain": [
       "{'n_estimators': 1000, 'num_leaves': 50}"
      ]
     },
     "execution_count": 92,
     "metadata": {},
     "output_type": "execute_result"
    }
   ],
   "source": [
    "grid_search.best_params_"
   ]
  },
  {
   "cell_type": "code",
   "execution_count": 93,
   "metadata": {},
   "outputs": [
    {
     "name": "stdout",
     "output_type": "stream",
     "text": [
      "0.5308818874044882 {'n_estimators': 100, 'num_leaves': 50}\n",
      "0.5103825139339397 {'n_estimators': 1000, 'num_leaves': 50}\n"
     ]
    }
   ],
   "source": [
    "cvres = grid_search.cv_results_\n",
    "for mean_score, params in zip(cvres['mean_test_score'], cvres['params']):\n",
    "    print(np.sqrt(-mean_score), params)"
   ]
  },
  {
   "cell_type": "markdown",
   "metadata": {},
   "source": [
    "Let's fit the model with these best hyperparameters."
   ]
  },
  {
   "cell_type": "code",
   "execution_count": 94,
   "metadata": {},
   "outputs": [
    {
     "name": "stdout",
     "output_type": "stream",
     "text": [
      "RMSLE: 0.49409853972905055\n",
      "Wall time: 10min 21s\n"
     ]
    }
   ],
   "source": [
    "%%time\n",
    "# split training data into train and test sets so we can evaluate our model\n",
    "features_train, features_test, target_train, target_test = train_test_split(sparse_merge_tfidf_ngrams, target, test_size=0.3, random_state=42)\n",
    "\n",
    "# fit\n",
    "my_model = lgb.LGBMRegressor(num_leaves=50, n_estimators=1000, random_state=42) \n",
    "my_model.fit(features_train, target_train)\n",
    "\n",
    "# predict\n",
    "lgbm_pred_prices = my_model.predict(features_test)\n",
    "\n",
    "# RMSLE\n",
    "print('RMSLE:', np.sqrt(mean_squared_error(target_test, lgbm_pred_prices)))"
   ]
  },
  {
   "cell_type": "markdown",
   "metadata": {},
   "source": [
    "<a id='select'></a>\n",
    "## Select best model"
   ]
  },
  {
   "cell_type": "markdown",
   "metadata": {},
   "source": [
    "### Combining Models\n",
    ">* Averaging\n",
    "* Majority Vote\n",
    "* Stacking\n",
    "\n",
    "Ensemble algorithms tipically combine models of the same nature. Sometimes we can improve the performance of our model by combining strong models built from different learning algorithms.\n",
    "\n",
    "So far, our best results were obtained with the **Ridge Regression** and **LigthGBM** algorithms."
   ]
  },
  {
   "cell_type": "markdown",
   "metadata": {},
   "source": [
    "#### Averaging\n",
    "\n",
    "We simply apply our models and then average the predictions."
   ]
  },
  {
   "cell_type": "code",
   "execution_count": 95,
   "metadata": {},
   "outputs": [
    {
     "name": "stdout",
     "output_type": "stream",
     "text": [
      "weight_1: 0.0, weight_2: 1.0, RMSLE: 0.4941\n",
      "weight_1: 0.1, weight_2: 0.9, RMSLE: 0.4901\n",
      "weight_1: 0.2, weight_2: 0.8, RMSLE: 0.4871\n",
      "weight_1: 0.3, weight_2: 0.7, RMSLE: 0.4848\n",
      "weight_1: 0.4, weight_2: 0.6, RMSLE: 0.4835\n",
      "weight_1: 0.5, weight_2: 0.5, RMSLE: 0.4831\n",
      "weight_1: 0.6, weight_2: 0.4, RMSLE: 0.4835\n",
      "weight_1: 0.7, weight_2: 0.3, RMSLE: 0.4848\n",
      "weight_1: 0.8, weight_2: 0.2, RMSLE: 0.4871\n",
      "weight_1: 0.9, weight_2: 0.1, RMSLE: 0.4902\n",
      "weight_1: 1.0, weight_2: 0.0, RMSLE: 0.4941\n"
     ]
    }
   ],
   "source": [
    "# weighted average of the predictions obtained with Ridge and LightGBM\n",
    "for weight_1 in np.arange(0, 1.1, 0.1):\n",
    "    weight_2 = 1-weight_1\n",
    "    ensemble_pred_prices = (weight_1*ridge_pred_prices) + (weight_2*lgbm_pred_prices)\n",
    "    RMSLE = np.sqrt(mean_squared_error(target_test, ensemble_pred_prices))        \n",
    "    print(\"weight_1: %.1f, weight_2: %.1f, RMSLE: %.4f\" % (weight_1, weight_2, RMSLE))"
   ]
  },
  {
   "cell_type": "markdown",
   "metadata": {},
   "source": [
    "The lowest RMSLE is obtained with weight_1=0.5 and weight_2=0.5."
   ]
  },
  {
   "cell_type": "markdown",
   "metadata": {},
   "source": [
    "It's now time to compare our predictions with the real target values."
   ]
  },
  {
   "cell_type": "code",
   "execution_count": 96,
   "metadata": {},
   "outputs": [
    {
     "data": {
      "text/plain": [
       "array([6.71677904, 6.32948088, 8.87272761, 6.13247287, 4.79735439,\n",
       "       6.37622228, 5.89524392, 5.70427866, 5.70235015, 6.81779305])"
      ]
     },
     "execution_count": 96,
     "metadata": {},
     "output_type": "execute_result"
    }
   ],
   "source": [
    "# Predictions\n",
    "\n",
    "# expm1 is the inverse of log1p\n",
    "ensemble_pred_prices = (np.expm1(0.5*ridge_pred_prices)) + np.expm1((0.5*lgbm_pred_prices))\n",
    "\n",
    "# first 10 predictions\n",
    "ensemble_pred_prices[0:10]"
   ]
  },
  {
   "cell_type": "code",
   "execution_count": 97,
   "metadata": {},
   "outputs": [
    {
     "data": {
      "text/plain": [
       "array([10., 29., 26., 12.,  8., 18., 10., 10., 12., 12.])"
      ]
     },
     "execution_count": 97,
     "metadata": {},
     "output_type": "execute_result"
    }
   ],
   "source": [
    "# first 10 real prices\n",
    "np.expm1(target_test)[0:10].values"
   ]
  },
  {
   "cell_type": "code",
   "execution_count": 98,
   "metadata": {},
   "outputs": [
    {
     "data": {
      "text/html": [
       "<div>\n",
       "<style scoped>\n",
       "    .dataframe tbody tr th:only-of-type {\n",
       "        vertical-align: middle;\n",
       "    }\n",
       "\n",
       "    .dataframe tbody tr th {\n",
       "        vertical-align: top;\n",
       "    }\n",
       "\n",
       "    .dataframe thead th {\n",
       "        text-align: right;\n",
       "    }\n",
       "</style>\n",
       "<table border=\"1\" class=\"dataframe\">\n",
       "  <thead>\n",
       "    <tr style=\"text-align: right;\">\n",
       "      <th></th>\n",
       "      <th>prediction</th>\n",
       "      <th>price</th>\n",
       "    </tr>\n",
       "  </thead>\n",
       "  <tbody>\n",
       "    <tr>\n",
       "      <th>0</th>\n",
       "      <td>6.716779</td>\n",
       "      <td>10.0</td>\n",
       "    </tr>\n",
       "    <tr>\n",
       "      <th>1</th>\n",
       "      <td>6.329481</td>\n",
       "      <td>29.0</td>\n",
       "    </tr>\n",
       "    <tr>\n",
       "      <th>2</th>\n",
       "      <td>8.872728</td>\n",
       "      <td>26.0</td>\n",
       "    </tr>\n",
       "    <tr>\n",
       "      <th>3</th>\n",
       "      <td>6.132473</td>\n",
       "      <td>12.0</td>\n",
       "    </tr>\n",
       "    <tr>\n",
       "      <th>4</th>\n",
       "      <td>4.797354</td>\n",
       "      <td>8.0</td>\n",
       "    </tr>\n",
       "  </tbody>\n",
       "</table>\n",
       "</div>"
      ],
      "text/plain": [
       "   prediction  price\n",
       "0    6.716779   10.0\n",
       "1    6.329481   29.0\n",
       "2    8.872728   26.0\n",
       "3    6.132473   12.0\n",
       "4    4.797354    8.0"
      ]
     },
     "execution_count": 98,
     "metadata": {},
     "output_type": "execute_result"
    }
   ],
   "source": [
    "# comparing predictions with real prices\n",
    "df_prices = pd.DataFrame()\n",
    "\n",
    "df_prices['prediction'] = ensemble_pred_prices\n",
    "df_prices['price'] = np.expm1(target_test).values\n",
    "\n",
    "df_prices.head()"
   ]
  },
  {
   "cell_type": "markdown",
   "metadata": {},
   "source": [
    "**Majority Vote** works only for **classification** models."
   ]
  },
  {
   "cell_type": "markdown",
   "metadata": {},
   "source": [
    "#### Stacking\n",
    "\n",
    "With stacking we build a **meta-model** that takes the output of **base models** as input. Let's use **Ridge and LightGBM as base models** and **XGBRegressor as the meta estimator**."
   ]
  },
  {
   "cell_type": "code",
   "execution_count": 99,
   "metadata": {},
   "outputs": [
    {
     "name": "stderr",
     "output_type": "stream",
     "text": [
      "[MLENS] backend: threading\n"
     ]
    },
    {
     "name": "stdout",
     "output_type": "stream",
     "text": [
      "\n",
      "Fitting 2 layers\n",
      "Processing layer-1             done | 00:12:45\n",
      "Processing layer-2             done | 00:00:02\n",
      "Fit complete                        | 00:12:48\n",
      "\n",
      "Predicting 2 layers\n",
      "Processing layer-1             done | 00:00:21\n",
      "Processing layer-2             done | 00:00:00\n",
      "Predict complete                    | 00:00:21\n"
     ]
    }
   ],
   "source": [
    "from mlens.ensemble import SuperLearner\n",
    "\n",
    "features_train, features_test, target_train, target_test = train_test_split(sparse_merge_tfidf_ngrams, target, test_size=0.3, random_state=42)\n",
    "\n",
    "ensemble = SuperLearner(scorer=mean_squared_error, random_state=42, verbose=2)\n",
    "\n",
    "# Build the first layer\n",
    "ensemble.add([Ridge(alpha=10, fit_intercept=False, random_state=42), \n",
    "              lgb.LGBMRegressor(num_leaves=50, n_estimators=1000, random_state=42)])\n",
    "\n",
    "# Attach the final meta estimator\n",
    "ensemble.add_meta(XGBRegressor(random_state=42))\n",
    "\n",
    "# Fit ensemble\n",
    "ensemble.fit(features_train, target_train)\n",
    "\n",
    "# Predict\n",
    "preds = ensemble.predict(features_test)"
   ]
  },
  {
   "cell_type": "code",
   "execution_count": 100,
   "metadata": {},
   "outputs": [
    {
     "name": "stdout",
     "output_type": "stream",
     "text": [
      "layer-1/lgbmregressor \t-->\tRMSLE: 0.5208069818413361\n",
      "layer-1/ridge \t-->\tRMSLE: 0.5104503671975126\n"
     ]
    }
   ],
   "source": [
    "for key, value in ensemble.data['score-m'].items():\n",
    "    print(key, '\\t-->\\tRMSLE: '+str(np.sqrt(value)))"
   ]
  },
  {
   "cell_type": "code",
   "execution_count": 101,
   "metadata": {},
   "outputs": [
    {
     "name": "stdout",
     "output_type": "stream",
     "text": [
      "RMSLE: 0.4832913852884015\n"
     ]
    }
   ],
   "source": [
    "print('RMSLE:', np.sqrt(ensemble.scorer(target_test, preds)))"
   ]
  },
  {
   "cell_type": "markdown",
   "metadata": {},
   "source": [
    "We can try to add a third base model to our ensemble. Let's use a Random Forest regressor. In this way we are using **3 algorithms of a different 'nature'**: a regularized linear model (Ridge), an ensemble model based on boosting (LightGBM), and an ensemble model based on bagging (Random Forest). "
   ]
  },
  {
   "cell_type": "code",
   "execution_count": 102,
   "metadata": {},
   "outputs": [
    {
     "name": "stdout",
     "output_type": "stream",
     "text": [
      "\n",
      "Fitting 2 layers\n",
      "Processing layer-1             done | 00:21:07\n",
      "Processing layer-2             done | 00:00:02\n",
      "Fit complete                        | 00:21:10\n",
      "\n",
      "Predicting 2 layers\n",
      "Processing layer-1             done | 00:00:21\n",
      "Processing layer-2             done | 00:00:00\n",
      "Predict complete                    | 00:00:21\n"
     ]
    }
   ],
   "source": [
    "ensemble = SuperLearner(scorer=mean_squared_error, random_state=42, verbose=2)\n",
    "\n",
    "# Build the first layer\n",
    "ensemble.add([Ridge(alpha=10, fit_intercept=False, random_state=42), \n",
    "              lgb.LGBMRegressor(num_leaves=50, n_estimators=1000, random_state=42), \n",
    "              RandomForestRegressor(n_estimators=3, random_state=42)])\n",
    "\n",
    "# Attach the final meta estimator\n",
    "ensemble.add_meta(XGBRegressor(random_state=42))\n",
    "\n",
    "# Fit ensemble\n",
    "ensemble.fit(features_train, target_train)\n",
    "\n",
    "# Predict\n",
    "preds = ensemble.predict(features_test)"
   ]
  },
  {
   "cell_type": "code",
   "execution_count": 103,
   "metadata": {},
   "outputs": [
    {
     "name": "stdout",
     "output_type": "stream",
     "text": [
      "layer-1/lgbmregressor \t-->\tRMSLE: 0.5208069818413361\n",
      "layer-1/randomforestregressor \t-->\tRMSLE: 0.627595159031007\n",
      "layer-1/ridge \t-->\tRMSLE: 0.5104503671975126\n"
     ]
    }
   ],
   "source": [
    "for key, value in ensemble.data['score-m'].items():\n",
    "    print(key, '\\t-->\\tRMSLE: '+str(np.sqrt(value)))"
   ]
  },
  {
   "cell_type": "code",
   "execution_count": 104,
   "metadata": {},
   "outputs": [
    {
     "name": "stdout",
     "output_type": "stream",
     "text": [
      "RMSLE: 0.482119810133771\n"
     ]
    }
   ],
   "source": [
    "print('RMSLE:', np.sqrt(ensemble.scorer(target_test, preds)))"
   ]
  },
  {
   "cell_type": "markdown",
   "metadata": {},
   "source": [
    "We were able to slightly improve our model."
   ]
  },
  {
   "cell_type": "code",
   "execution_count": 105,
   "metadata": {},
   "outputs": [],
   "source": [
    "# Predictions\n",
    "\n",
    "# expm1 is the inverse of log1p\n",
    "ensemble_pred_prices = (np.expm1(preds))"
   ]
  },
  {
   "cell_type": "code",
   "execution_count": 106,
   "metadata": {},
   "outputs": [
    {
     "data": {
      "text/html": [
       "<div>\n",
       "<style scoped>\n",
       "    .dataframe tbody tr th:only-of-type {\n",
       "        vertical-align: middle;\n",
       "    }\n",
       "\n",
       "    .dataframe tbody tr th {\n",
       "        vertical-align: top;\n",
       "    }\n",
       "\n",
       "    .dataframe thead th {\n",
       "        text-align: right;\n",
       "    }\n",
       "</style>\n",
       "<table border=\"1\" class=\"dataframe\">\n",
       "  <thead>\n",
       "    <tr style=\"text-align: right;\">\n",
       "      <th></th>\n",
       "      <th>prediction</th>\n",
       "      <th>price</th>\n",
       "    </tr>\n",
       "  </thead>\n",
       "  <tbody>\n",
       "    <tr>\n",
       "      <th>0</th>\n",
       "      <td>16.083069</td>\n",
       "      <td>10.0</td>\n",
       "    </tr>\n",
       "    <tr>\n",
       "      <th>1</th>\n",
       "      <td>16.650599</td>\n",
       "      <td>29.0</td>\n",
       "    </tr>\n",
       "    <tr>\n",
       "      <th>2</th>\n",
       "      <td>28.220005</td>\n",
       "      <td>26.0</td>\n",
       "    </tr>\n",
       "    <tr>\n",
       "      <th>3</th>\n",
       "      <td>15.699462</td>\n",
       "      <td>12.0</td>\n",
       "    </tr>\n",
       "    <tr>\n",
       "      <th>4</th>\n",
       "      <td>10.341886</td>\n",
       "      <td>8.0</td>\n",
       "    </tr>\n",
       "  </tbody>\n",
       "</table>\n",
       "</div>"
      ],
      "text/plain": [
       "   prediction  price\n",
       "0   16.083069   10.0\n",
       "1   16.650599   29.0\n",
       "2   28.220005   26.0\n",
       "3   15.699462   12.0\n",
       "4   10.341886    8.0"
      ]
     },
     "execution_count": 106,
     "metadata": {},
     "output_type": "execute_result"
    }
   ],
   "source": [
    "# comparing predictions with real prices\n",
    "df_prices = pd.DataFrame()\n",
    "\n",
    "df_prices['prediction'] = ensemble_pred_prices\n",
    "df_prices['price'] = np.expm1(target_test).values\n",
    "\n",
    "df_prices.head()"
   ]
  },
  {
   "cell_type": "markdown",
   "metadata": {},
   "source": [
    "***\n",
    "<a id='automate'></a>\n",
    "## Automate pipeline"
   ]
  },
  {
   "cell_type": "markdown",
   "metadata": {},
   "source": [
    "Since we have identified the most useful vectorization methods for the text variables and also the best predictive models to achieve our goal, we can now create a pipeline and automate part of the process.\n",
    "\n",
    "We'll read our preprocessed data from the pickle file we have created earlier and will then **build a pipeline that includes two steps**:\n",
    "* text vectorization\n",
    "* model creation and training\n",
    "\n",
    "For the text vectorization step, we'll use the **ColumnTransformer** estimator, that allows us to apply different vectorization methods to different columns.\n",
    "\n",
    "As for the model, we'll use the **Ridge Regression** model we've tuned before with the help of  GridSearchCV."
   ]
  },
  {
   "cell_type": "code",
   "execution_count": 107,
   "metadata": {},
   "outputs": [],
   "source": [
    "# read pickle file\n",
    "df = pd.read_pickle(\"./df_preprocessed.pkl\")"
   ]
  },
  {
   "cell_type": "code",
   "execution_count": 108,
   "metadata": {},
   "outputs": [
    {
     "name": "stdout",
     "output_type": "stream",
     "text": [
      "<class 'pandas.core.frame.DataFrame'>\n",
      "Int64Index: 148167 entries, 0 to 148253\n",
      "Data columns (total 14 columns):\n",
      "train_id                       148167 non-null int64\n",
      "name                           148167 non-null object\n",
      "item_condition_id              148167 non-null int64\n",
      "category_name                  148167 non-null object\n",
      "brand_name                     148167 non-null object\n",
      "price                          148167 non-null float64\n",
      "shipping                       148167 non-null int64\n",
      "item_description               148167 non-null object\n",
      "main_category                  148167 non-null object\n",
      "subcategory_1                  148167 non-null object\n",
      "subcategory_2                  148167 non-null object\n",
      "subcategory_3                  148167 non-null object\n",
      "subcategory_4                  148167 non-null object\n",
      "item_description_normalized    148167 non-null object\n",
      "dtypes: float64(1), int64(3), object(10)\n",
      "memory usage: 17.0+ MB\n"
     ]
    }
   ],
   "source": [
    "df.info()"
   ]
  },
  {
   "cell_type": "code",
   "execution_count": 109,
   "metadata": {},
   "outputs": [],
   "source": [
    "# select features of interest\n",
    "features = df.copy()\n",
    "features.drop(['train_id', 'category_name', 'price', 'item_description'], axis = 1, inplace = True)"
   ]
  },
  {
   "cell_type": "code",
   "execution_count": 110,
   "metadata": {},
   "outputs": [
    {
     "name": "stdout",
     "output_type": "stream",
     "text": [
      "<class 'pandas.core.frame.DataFrame'>\n",
      "Int64Index: 148167 entries, 0 to 148253\n",
      "Data columns (total 10 columns):\n",
      "name                           148167 non-null object\n",
      "item_condition_id              148167 non-null int64\n",
      "brand_name                     148167 non-null object\n",
      "shipping                       148167 non-null int64\n",
      "main_category                  148167 non-null object\n",
      "subcategory_1                  148167 non-null object\n",
      "subcategory_2                  148167 non-null object\n",
      "subcategory_3                  148167 non-null object\n",
      "subcategory_4                  148167 non-null object\n",
      "item_description_normalized    148167 non-null object\n",
      "dtypes: int64(2), object(8)\n",
      "memory usage: 12.4+ MB\n"
     ]
    }
   ],
   "source": [
    "features.info()"
   ]
  },
  {
   "cell_type": "code",
   "execution_count": 111,
   "metadata": {},
   "outputs": [],
   "source": [
    "# define our target variable as log(price+1)\n",
    "target = np.log1p(df['price'])"
   ]
  },
  {
   "cell_type": "code",
   "execution_count": 112,
   "metadata": {},
   "outputs": [],
   "source": [
    "from sklearn.pipeline import Pipeline\n",
    "from sklearn.compose import ColumnTransformer"
   ]
  },
  {
   "cell_type": "code",
   "execution_count": 113,
   "metadata": {},
   "outputs": [
    {
     "name": "stdout",
     "output_type": "stream",
     "text": [
      "[Pipeline] .... (step 1 of 2) Processing features_union, total=   8.8s\n",
      "[Pipeline] ......... (step 2 of 2) Processing regressor, total=   2.7s\n",
      "RMSLE: 0.4939542801773516\n"
     ]
    }
   ],
   "source": [
    "# create pipeline\n",
    "pipeline = Pipeline([\n",
    "    ('features_union', ColumnTransformer(\n",
    "        [\n",
    "            ('item_description_tfidf_ngrams', TfidfVectorizer(ngram_range=(1,2), max_features=100000), 'item_description_normalized'), \n",
    "            \n",
    "            ('name_ohe', CountVectorizer(binary=True), 'name'),\n",
    "            \n",
    "            ('brand_name_ohe', CountVectorizer(binary=True), 'brand_name'), \n",
    "            \n",
    "            ('main_category_ohe', CountVectorizer(binary=True), 'main_category'), \n",
    "            \n",
    "            ('sub_category_1_ohe', CountVectorizer(binary=True), 'subcategory_1'),\n",
    "                        \n",
    "            ('sub_category_2_ohe', CountVectorizer(binary=True), 'subcategory_2'),\n",
    "            \n",
    "            ('sub_category_3_ohe', CountVectorizer(binary=True), 'subcategory_3'), \n",
    "            \n",
    "            ('sub_category_4_ohe', CountVectorizer(binary=True), 'subcategory_4'), \n",
    "            \n",
    "#remainder as passthrough so that 'shipping' and 'item_condition_id' are also used and stacked with the rest\n",
    "        ], remainder='passthrough',  \n",
    "    )), \n",
    "    \n",
    "    ('regressor', Ridge(alpha=10, fit_intercept=False, random_state=42)),\n",
    "], verbose=True)\n",
    "\n",
    "\n",
    "# split training data into train and test sets so we can evaluate our model\n",
    "features_train, features_test, target_train, target_test = train_test_split(features, target, test_size=0.3, random_state=42)\n",
    "\n",
    "# fit\n",
    "pipeline.fit(features_train, target_train)\n",
    "\n",
    "# predict\n",
    "pred_prices = pipeline.predict(features_test)\n",
    "\n",
    "# RMSLE\n",
    "print('RMSLE:', np.sqrt(mean_squared_error(target_test, pred_prices)))"
   ]
  },
  {
   "cell_type": "markdown",
   "metadata": {},
   "source": [
    "<a id='deploy'></a>\n",
    "## Deploy solution"
   ]
  },
  {
   "cell_type": "markdown",
   "metadata": {},
   "source": [
    "Based on the output of our pipeline, we can now predict the prices of the products that are sold on Mercari's marketplace. "
   ]
  },
  {
   "cell_type": "code",
   "execution_count": 114,
   "metadata": {},
   "outputs": [],
   "source": [
    "# Predictions\n",
    "\n",
    "# expm1 is the inverse of log1p\n",
    "pipeline_pred_prices = (np.expm1(pred_prices))"
   ]
  },
  {
   "cell_type": "code",
   "execution_count": 115,
   "metadata": {},
   "outputs": [
    {
     "data": {
      "text/plain": [
       "array([15.08952646, 16.64890812, 33.93683751, 16.22561369,  9.14530576,\n",
       "       18.55778   , 14.70990298, 15.78280296, 13.51067775, 19.0935305 ])"
      ]
     },
     "execution_count": 115,
     "metadata": {},
     "output_type": "execute_result"
    }
   ],
   "source": [
    "# first 10 predictions\n",
    "pipeline_pred_prices[0:10]"
   ]
  },
  {
   "cell_type": "markdown",
   "metadata": {},
   "source": [
    "We could now ingest data about new products, preprocess this information, and predict their prices using this pipeline.\n",
    "\n",
    "These price predictions could then be saved to a file used to automatically update Mercari's webpage, allowing both sellers and buyers to see a price suggestion for any given product."
   ]
  },
  {
   "cell_type": "markdown",
   "metadata": {},
   "source": [
    "### Ideas for future implementation"
   ]
  },
  {
   "cell_type": "markdown",
   "metadata": {},
   "source": [
    "My main goal with this project was to build a **coherent script from start to finish**, and to explore some of the **NLP techniques** and how to implement them in a real world problem.\n",
    "\n",
    "Having this in mind, some of the following ideas could be explored in order to improve this project in general, and its evaluation metric in particular (between brackets I will leave some notes to myself for future reference):\n",
    "* try different approaches to text normalization: try different stemmers and lemmatization; (sklearn, NLTK, Gensim and SpaCy use different stopwords - test/combine them?)\n",
    "* try different text vectorization methods (try NLTK, Gensim and SpaCy), including distributed representations (Word2vec)\n",
    "* apply topic modeling to the item descriptions to create a new feature\n",
    "* improve model interpretation (check Eli5 + Interpretable Machine Learning by C. Molnar + Machine Learning Explainability [Kaggle])\n",
    "* include interactive visualizations with plotly\n",
    "* try different approaches to hyperparameter tuning (sklearn's RandomizedSearchCV and Bayesian hyperparameter optimization; try Hyperopt and Hyperband packages)\n",
    "* ..."
   ]
  }
 ],
 "metadata": {
  "kernelspec": {
   "display_name": "Python 3",
   "language": "python",
   "name": "python3"
  },
  "language_info": {
   "codemirror_mode": {
    "name": "ipython",
    "version": 3
   },
   "file_extension": ".py",
   "mimetype": "text/x-python",
   "name": "python",
   "nbconvert_exporter": "python",
   "pygments_lexer": "ipython3",
   "version": "3.6.4"
  }
 },
 "nbformat": 4,
 "nbformat_minor": 2
}
